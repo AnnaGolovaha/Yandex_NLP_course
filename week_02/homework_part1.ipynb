{
  "cells": [
    {
      "cell_type": "markdown",
      "metadata": {
        "id": "view-in-github",
        "colab_type": "text"
      },
      "source": [
        "<a href=\"https://colab.research.google.com/github/AnnaGolovaha/Yandex_NLP_course/blob/main/week_02/homework_part1.ipynb\" target=\"_parent\"><img src=\"https://colab.research.google.com/assets/colab-badge.svg\" alt=\"Open In Colab\"/></a>"
      ]
    },
    {
      "cell_type": "code",
      "execution_count": null,
      "metadata": {
        "id": "xl1PHUEGrfiH"
      },
      "outputs": [],
      "source": [
        "import numpy as np\n",
        "import matplotlib.pyplot as plt\n",
        "%matplotlib inline"
      ]
    },
    {
      "cell_type": "markdown",
      "source": [
        "# Новый раздел"
      ],
      "metadata": {
        "id": "nN8DbqR_vaQb"
      }
    },
    {
      "cell_type": "markdown",
      "metadata": {
        "id": "vSM858bJrfiJ"
      },
      "source": [
        "### Homework part I: Prohibited Comment Classification (3 points)\n",
        "\n",
        "![img](https://github.com/yandexdataschool/nlp_course/raw/master/resources/banhammer.jpg)\n",
        "\n",
        "__In this notebook__ you will build an algorithm that classifies social media comments into normal or toxic.\n",
        "Like in many real-world cases, you only have a small (10^3) dataset of hand-labeled examples to work with. We'll tackle this problem using both classical nlp methods and embedding-based approach.\n",
        "\n",
        "В этой тетради вы создадите алгоритм, который будет классифицировать комментарии в социальных сетях на нормальные и токсичные. Как и во многих реальных случаях, у вас есть только небольшой (10^3) набор данных с вручную помеченными примерами для работы. Мы решим эту проблему, используя как классические методы NLP, так и подход, основанный на встраивании."
      ]
    },
    {
      "cell_type": "code",
      "execution_count": null,
      "metadata": {
        "colab": {
          "base_uri": "https://localhost:8080/",
          "height": 206
        },
        "id": "s05LrGbgrfiK",
        "outputId": "9be4402d-62e3-4c11-cd5b-e84a47c40967"
      },
      "outputs": [
        {
          "output_type": "execute_result",
          "data": {
            "text/plain": [
              "     should_ban                                       comment_text\n",
              "50            0  \"Those who're in advantageous positions are th...\n",
              "250           1          Fartsalot56 says f**k you motherclucker!!\n",
              "450           1  Are you a fool? \\n\\nI am sorry, but you seem t...\n",
              "650           1    I AM NOT A VANDAL!!!!!!!!!!!!!!!!!!!!!!!!!!!!!!\n",
              "850           0  Citing sources\\n\\nCheck out the Wikipedia:Citi..."
            ],
            "text/html": [
              "\n",
              "  <div id=\"df-0234871e-a69b-42e0-9ae5-f4c78c4f0421\" class=\"colab-df-container\">\n",
              "    <div>\n",
              "<style scoped>\n",
              "    .dataframe tbody tr th:only-of-type {\n",
              "        vertical-align: middle;\n",
              "    }\n",
              "\n",
              "    .dataframe tbody tr th {\n",
              "        vertical-align: top;\n",
              "    }\n",
              "\n",
              "    .dataframe thead th {\n",
              "        text-align: right;\n",
              "    }\n",
              "</style>\n",
              "<table border=\"1\" class=\"dataframe\">\n",
              "  <thead>\n",
              "    <tr style=\"text-align: right;\">\n",
              "      <th></th>\n",
              "      <th>should_ban</th>\n",
              "      <th>comment_text</th>\n",
              "    </tr>\n",
              "  </thead>\n",
              "  <tbody>\n",
              "    <tr>\n",
              "      <th>50</th>\n",
              "      <td>0</td>\n",
              "      <td>\"Those who're in advantageous positions are th...</td>\n",
              "    </tr>\n",
              "    <tr>\n",
              "      <th>250</th>\n",
              "      <td>1</td>\n",
              "      <td>Fartsalot56 says f**k you motherclucker!!</td>\n",
              "    </tr>\n",
              "    <tr>\n",
              "      <th>450</th>\n",
              "      <td>1</td>\n",
              "      <td>Are you a fool? \\n\\nI am sorry, but you seem t...</td>\n",
              "    </tr>\n",
              "    <tr>\n",
              "      <th>650</th>\n",
              "      <td>1</td>\n",
              "      <td>I AM NOT A VANDAL!!!!!!!!!!!!!!!!!!!!!!!!!!!!!!</td>\n",
              "    </tr>\n",
              "    <tr>\n",
              "      <th>850</th>\n",
              "      <td>0</td>\n",
              "      <td>Citing sources\\n\\nCheck out the Wikipedia:Citi...</td>\n",
              "    </tr>\n",
              "  </tbody>\n",
              "</table>\n",
              "</div>\n",
              "    <div class=\"colab-df-buttons\">\n",
              "\n",
              "  <div class=\"colab-df-container\">\n",
              "    <button class=\"colab-df-convert\" onclick=\"convertToInteractive('df-0234871e-a69b-42e0-9ae5-f4c78c4f0421')\"\n",
              "            title=\"Convert this dataframe to an interactive table.\"\n",
              "            style=\"display:none;\">\n",
              "\n",
              "  <svg xmlns=\"http://www.w3.org/2000/svg\" height=\"24px\" viewBox=\"0 -960 960 960\">\n",
              "    <path d=\"M120-120v-720h720v720H120Zm60-500h600v-160H180v160Zm220 220h160v-160H400v160Zm0 220h160v-160H400v160ZM180-400h160v-160H180v160Zm440 0h160v-160H620v160ZM180-180h160v-160H180v160Zm440 0h160v-160H620v160Z\"/>\n",
              "  </svg>\n",
              "    </button>\n",
              "\n",
              "  <style>\n",
              "    .colab-df-container {\n",
              "      display:flex;\n",
              "      gap: 12px;\n",
              "    }\n",
              "\n",
              "    .colab-df-convert {\n",
              "      background-color: #E8F0FE;\n",
              "      border: none;\n",
              "      border-radius: 50%;\n",
              "      cursor: pointer;\n",
              "      display: none;\n",
              "      fill: #1967D2;\n",
              "      height: 32px;\n",
              "      padding: 0 0 0 0;\n",
              "      width: 32px;\n",
              "    }\n",
              "\n",
              "    .colab-df-convert:hover {\n",
              "      background-color: #E2EBFA;\n",
              "      box-shadow: 0px 1px 2px rgba(60, 64, 67, 0.3), 0px 1px 3px 1px rgba(60, 64, 67, 0.15);\n",
              "      fill: #174EA6;\n",
              "    }\n",
              "\n",
              "    .colab-df-buttons div {\n",
              "      margin-bottom: 4px;\n",
              "    }\n",
              "\n",
              "    [theme=dark] .colab-df-convert {\n",
              "      background-color: #3B4455;\n",
              "      fill: #D2E3FC;\n",
              "    }\n",
              "\n",
              "    [theme=dark] .colab-df-convert:hover {\n",
              "      background-color: #434B5C;\n",
              "      box-shadow: 0px 1px 3px 1px rgba(0, 0, 0, 0.15);\n",
              "      filter: drop-shadow(0px 1px 2px rgba(0, 0, 0, 0.3));\n",
              "      fill: #FFFFFF;\n",
              "    }\n",
              "  </style>\n",
              "\n",
              "    <script>\n",
              "      const buttonEl =\n",
              "        document.querySelector('#df-0234871e-a69b-42e0-9ae5-f4c78c4f0421 button.colab-df-convert');\n",
              "      buttonEl.style.display =\n",
              "        google.colab.kernel.accessAllowed ? 'block' : 'none';\n",
              "\n",
              "      async function convertToInteractive(key) {\n",
              "        const element = document.querySelector('#df-0234871e-a69b-42e0-9ae5-f4c78c4f0421');\n",
              "        const dataTable =\n",
              "          await google.colab.kernel.invokeFunction('convertToInteractive',\n",
              "                                                    [key], {});\n",
              "        if (!dataTable) return;\n",
              "\n",
              "        const docLinkHtml = 'Like what you see? Visit the ' +\n",
              "          '<a target=\"_blank\" href=https://colab.research.google.com/notebooks/data_table.ipynb>data table notebook</a>'\n",
              "          + ' to learn more about interactive tables.';\n",
              "        element.innerHTML = '';\n",
              "        dataTable['output_type'] = 'display_data';\n",
              "        await google.colab.output.renderOutput(dataTable, element);\n",
              "        const docLink = document.createElement('div');\n",
              "        docLink.innerHTML = docLinkHtml;\n",
              "        element.appendChild(docLink);\n",
              "      }\n",
              "    </script>\n",
              "  </div>\n",
              "\n",
              "\n",
              "<div id=\"df-9671cc08-7289-4c0c-a059-310c66473299\">\n",
              "  <button class=\"colab-df-quickchart\" onclick=\"quickchart('df-9671cc08-7289-4c0c-a059-310c66473299')\"\n",
              "            title=\"Suggest charts\"\n",
              "            style=\"display:none;\">\n",
              "\n",
              "<svg xmlns=\"http://www.w3.org/2000/svg\" height=\"24px\"viewBox=\"0 0 24 24\"\n",
              "     width=\"24px\">\n",
              "    <g>\n",
              "        <path d=\"M19 3H5c-1.1 0-2 .9-2 2v14c0 1.1.9 2 2 2h14c1.1 0 2-.9 2-2V5c0-1.1-.9-2-2-2zM9 17H7v-7h2v7zm4 0h-2V7h2v10zm4 0h-2v-4h2v4z\"/>\n",
              "    </g>\n",
              "</svg>\n",
              "  </button>\n",
              "\n",
              "<style>\n",
              "  .colab-df-quickchart {\n",
              "      --bg-color: #E8F0FE;\n",
              "      --fill-color: #1967D2;\n",
              "      --hover-bg-color: #E2EBFA;\n",
              "      --hover-fill-color: #174EA6;\n",
              "      --disabled-fill-color: #AAA;\n",
              "      --disabled-bg-color: #DDD;\n",
              "  }\n",
              "\n",
              "  [theme=dark] .colab-df-quickchart {\n",
              "      --bg-color: #3B4455;\n",
              "      --fill-color: #D2E3FC;\n",
              "      --hover-bg-color: #434B5C;\n",
              "      --hover-fill-color: #FFFFFF;\n",
              "      --disabled-bg-color: #3B4455;\n",
              "      --disabled-fill-color: #666;\n",
              "  }\n",
              "\n",
              "  .colab-df-quickchart {\n",
              "    background-color: var(--bg-color);\n",
              "    border: none;\n",
              "    border-radius: 50%;\n",
              "    cursor: pointer;\n",
              "    display: none;\n",
              "    fill: var(--fill-color);\n",
              "    height: 32px;\n",
              "    padding: 0;\n",
              "    width: 32px;\n",
              "  }\n",
              "\n",
              "  .colab-df-quickchart:hover {\n",
              "    background-color: var(--hover-bg-color);\n",
              "    box-shadow: 0 1px 2px rgba(60, 64, 67, 0.3), 0 1px 3px 1px rgba(60, 64, 67, 0.15);\n",
              "    fill: var(--button-hover-fill-color);\n",
              "  }\n",
              "\n",
              "  .colab-df-quickchart-complete:disabled,\n",
              "  .colab-df-quickchart-complete:disabled:hover {\n",
              "    background-color: var(--disabled-bg-color);\n",
              "    fill: var(--disabled-fill-color);\n",
              "    box-shadow: none;\n",
              "  }\n",
              "\n",
              "  .colab-df-spinner {\n",
              "    border: 2px solid var(--fill-color);\n",
              "    border-color: transparent;\n",
              "    border-bottom-color: var(--fill-color);\n",
              "    animation:\n",
              "      spin 1s steps(1) infinite;\n",
              "  }\n",
              "\n",
              "  @keyframes spin {\n",
              "    0% {\n",
              "      border-color: transparent;\n",
              "      border-bottom-color: var(--fill-color);\n",
              "      border-left-color: var(--fill-color);\n",
              "    }\n",
              "    20% {\n",
              "      border-color: transparent;\n",
              "      border-left-color: var(--fill-color);\n",
              "      border-top-color: var(--fill-color);\n",
              "    }\n",
              "    30% {\n",
              "      border-color: transparent;\n",
              "      border-left-color: var(--fill-color);\n",
              "      border-top-color: var(--fill-color);\n",
              "      border-right-color: var(--fill-color);\n",
              "    }\n",
              "    40% {\n",
              "      border-color: transparent;\n",
              "      border-right-color: var(--fill-color);\n",
              "      border-top-color: var(--fill-color);\n",
              "    }\n",
              "    60% {\n",
              "      border-color: transparent;\n",
              "      border-right-color: var(--fill-color);\n",
              "    }\n",
              "    80% {\n",
              "      border-color: transparent;\n",
              "      border-right-color: var(--fill-color);\n",
              "      border-bottom-color: var(--fill-color);\n",
              "    }\n",
              "    90% {\n",
              "      border-color: transparent;\n",
              "      border-bottom-color: var(--fill-color);\n",
              "    }\n",
              "  }\n",
              "</style>\n",
              "\n",
              "  <script>\n",
              "    async function quickchart(key) {\n",
              "      const quickchartButtonEl =\n",
              "        document.querySelector('#' + key + ' button');\n",
              "      quickchartButtonEl.disabled = true;  // To prevent multiple clicks.\n",
              "      quickchartButtonEl.classList.add('colab-df-spinner');\n",
              "      try {\n",
              "        const charts = await google.colab.kernel.invokeFunction(\n",
              "            'suggestCharts', [key], {});\n",
              "      } catch (error) {\n",
              "        console.error('Error during call to suggestCharts:', error);\n",
              "      }\n",
              "      quickchartButtonEl.classList.remove('colab-df-spinner');\n",
              "      quickchartButtonEl.classList.add('colab-df-quickchart-complete');\n",
              "    }\n",
              "    (() => {\n",
              "      let quickchartButtonEl =\n",
              "        document.querySelector('#df-9671cc08-7289-4c0c-a059-310c66473299 button');\n",
              "      quickchartButtonEl.style.display =\n",
              "        google.colab.kernel.accessAllowed ? 'block' : 'none';\n",
              "    })();\n",
              "  </script>\n",
              "</div>\n",
              "    </div>\n",
              "  </div>\n"
            ]
          },
          "metadata": {},
          "execution_count": 74
        }
      ],
      "source": [
        "import pandas as pd\n",
        "data = pd.read_csv(\"/content/drive/MyDrive/NLP_course/week_2/comments.tsv\", sep='\\t') #sep='\\t' - разделитель табуляция\n",
        "\n",
        "texts = data['comment_text'].values\n",
        "target = data['should_ban'].values\n",
        "data[50::200]\n",
        "# data.head()"
      ]
    },
    {
      "cell_type": "code",
      "execution_count": null,
      "metadata": {
        "id": "WNkapVj-rfiL",
        "colab": {
          "base_uri": "https://localhost:8080/"
        },
        "outputId": "6ffedd76-3e59-4fe7-ae34-da04f6590130"
      },
      "outputs": [
        {
          "output_type": "execute_result",
          "data": {
            "text/plain": [
              "(500,)"
            ]
          },
          "metadata": {},
          "execution_count": 75
        }
      ],
      "source": [
        "from sklearn.model_selection import train_test_split\n",
        "texts_train, texts_test, y_train, y_test = train_test_split(texts, target, test_size=0.5, random_state=42)\n",
        "#  random_state=42 для перемешивания данных перед их разделением\n",
        "texts_train.shape"
      ]
    },
    {
      "cell_type": "markdown",
      "metadata": {
        "id": "r7XEFUzkrfiL"
      },
      "source": [
        "__Note:__ it is generally a good idea to split data into train/test before anything is done to them.\n",
        "\n",
        "Как правило, рекомендуется разделить данные на обучающие/тестовые, прежде чем с ними что-либо делать.\n",
        "\n",
        "It guards you against possible data leakage in the preprocessing stage. For example, should you decide to select words present in obscene tweets as features, you should only count those words over the training set. Otherwise your algoritm can cheat evaluation.\n",
        "\n",
        "Это защитит вас от возможной утечки данных на этапе предварительной обработки. Например, если вы решите выбрать в качестве признаков слова, присутствующие в нецензурных твитах, вам следует учитывать только эти слова в обучающем наборе. В противном случае ваш алгоритм может обмануть оценку."
      ]
    },
    {
      "cell_type": "markdown",
      "metadata": {
        "id": "5fowG0McrfiM"
      },
      "source": [
        "### Preprocessing and tokenization\n",
        "\n",
        "Comments contain raw text with punctuation, upper/lowercase letters and even newline symbols.\n",
        "\n",
        "Комментарии содержат необработанный текст со знаками препинания, прописными/строчными буквами и даже символами новой строки.\n",
        "\n",
        "To simplify all further steps, we'll split text into space-separated tokens using one of nltk tokenizers.\n",
        "\n",
        "Чтобы упростить все дальнейшие шаги, мы разобьем текст на токены, разделенные пробелами, с помощью одного из токенизаторов nltk."
      ]
    },
    {
      "cell_type": "code",
      "execution_count": null,
      "metadata": {
        "colab": {
          "base_uri": "https://localhost:8080/"
        },
        "id": "yOCjyrZPrfiM",
        "outputId": "5b8f40f6-7c2e-4bc4-ccaa-315ff830637c"
      },
      "outputs": [
        {
          "output_type": "stream",
          "name": "stdout",
          "text": [
            "before: How to be a grown-up at work: replace \"fuck you\" with \"Ok, great!\".\n",
            "after: how to be a grown-up at work : replace \" fuck you \" with \" ok , great ! \" .\n"
          ]
        }
      ],
      "source": [
        "from nltk.tokenize import TweetTokenizer\n",
        "tokenizer = TweetTokenizer()\n",
        "# preprocess = lambda text: ' '.join(tokenizer.tokenize(text.lower())) #text - тут хранятся значения комментариев из таблицы\n",
        "preprocess = lambda text: ' '.join(tokenizer.tokenize(text)).lower() #более правильная запись\n",
        "\n",
        "\n",
        "text = 'How to be a grown-up at work: replace \"fuck you\" with \"Ok, great!\".'\n",
        "print(\"before:\", text,)\n",
        "print(\"after:\", preprocess(text),)"
      ]
    },
    {
      "cell_type": "code",
      "execution_count": null,
      "metadata": {
        "id": "0bJZftVjrfiM"
      },
      "outputs": [],
      "source": [
        "# task: preprocess each comment in train and test\n",
        "# один из способов - использовать np.vectorize- преобразует обычную функцию Python в функцию, которую можно применить к массивам numpy\n",
        "\n",
        "fun_preprocess_np = np.vectorize(preprocess)\n",
        "texts_train = fun_preprocess_np (texts_train)\n",
        "texts_test = fun_preprocess_np (texts_test)\n",
        "\n",
        "# другой способ - использовать циклы\n",
        "# texts_train = [preprocess(s) for s in texts_train]\n",
        "# texts_test = [preprocess(s) for s in texts_test]"
      ]
    },
    {
      "cell_type": "code",
      "execution_count": null,
      "metadata": {
        "id": "u4259hCurfiM"
      },
      "outputs": [],
      "source": [
        "assert texts_train[5] ==  'who cares anymore . they attack with impunity .'\n",
        "assert texts_test[89] == 'hey todds ! quick q ? why are you so gay'\n",
        "assert len(texts_test) == len(y_test)"
      ]
    },
    {
      "cell_type": "markdown",
      "metadata": {
        "id": "_Okhp1fnrfiM"
      },
      "source": [
        "### Solving it: bag of words\n",
        "\n",
        "![img](http://www.novuslight.com/uploads/n/BagofWords.jpg)\n",
        "\n",
        "One traditional approach to such problem is to use bag of words features:\n",
        "1. build a vocabulary of frequent words (use train data only)\n",
        "2. for each training sample, count the number of times a word occurs in it (for each word in vocabulary).\n",
        "3. consider this count a feature for some classifier\n",
        "\n",
        "Один из традиционных подходов к такой проблеме — использовать функции «мешка слов»:\n",
        "1. Создайте словарь часто встречающихся слов (используйте только данные train)\n",
        "2. для каждой обучающей выборки подсчитать, сколько раз в ней встречается слово (для каждого слова в словаре).\n",
        "3. считать этот счетчик особенностью какого-то классификатора\n",
        "\n",
        "__Note:__ in practice, you can compute such features using sklearn. Please don't do that in the current assignment, though.\n",
        "\n",
        "На практике вы можете вычислить такие функции с помощью sklearn.\n",
        "* `from sklearn.feature_extraction.text import CountVectorizer, TfidfVectorizer`"
      ]
    },
    {
      "cell_type": "code",
      "execution_count": null,
      "metadata": {
        "id": "Xy9RJ9FYrfiN",
        "outputId": "0a9e5815-fa19-45a6-84a9-eed0a5878231",
        "colab": {
          "base_uri": "https://localhost:8080/"
        }
      },
      "outputs": [
        {
          "output_type": "stream",
          "name": "stdout",
          "text": [
            "example features: ['.', ',', 'you', 'the', '\"', 'a', 'to', 'i', 'and', '!', 'is', 'of', '=', 'suck', 'that', 'in', 'hitler', 'heil', 'it', '(', ')', 'offfuck', '?', 'are', 'not', 'this', 'for', 'be', 'your', 'my', 'on', 'as', 'with', 'do', 'have', 'nigger', 'j.delanoy', 'me', ':', 'dick', 'or', 'was', 'if', 'article', 'at', 'know', 'but', 'because', 'all', 'what', 'page', 'an', 'so', '...', 'talk', 'by', 'wikipedia', 'one', 'he', 'they', 'can', 'like', 'no', 'from', 'will', 'has', 'would', \"'\", 'been', 'about', 'there', 'fggt', 'just', \"don't\", 'any', 'which', 'did', '2006', '-', 'time', 'who', 'when', 'july', 'we', 'hist', 'diff', 'please', 'how', 'people', '24', 'should', 'see', 'his', 'had', '|', 'them', 'here', 'up', 'think', 'also', 'other', 'before', 'some', ';', 'then', 'bitch', \"i'm\", 'am', 'make', 'why', 'out', 'being', 'may', 'user', 'only', 'fuck', '/', 'more', \"it's\", 'use', 'articles', 'again', 'does', 'their', 'even', 'now', 'edit', 'good', 'get', 'own', 'shit', 'were', 'her', 'want', 'slap', 'than', 'go', 'two', 'stop', 'him', 'new', '→', 'since', 'information', 'made', 'sources', 'its', 'very', 'most', 'blocked', \"you're\", 'help', 'way', 'over', 'right', 'take', 'she', '&', 'discussion', 'block', 'could', 'such', 'dog', 'many', 'thank', 'too', 'live', 'us', 'where', '}', 'much', 'things', \"i've\", 'image', 'into', 'top', 'those', 'these', 'well', 'u', '{', 'fucking', 'added', 'little', 'sure', 'thanks', 'work', '•', 'against', 'while', 'real', 'used', 'life', '..', 'something', 'same', 'name', 'edits', 'others', 'keep', 'editing', 'really', 'pages', 'delete', 'without', 'another', 's', 'source', 'ass', 'add', 'back', 'find', 'wp', 'off', 'loud', 'seems', 'say', 'agree', 'place', 'every', 'consider', 'read', 'put', 'might', 'going', 'doing', 'content', 'someone', 'ever', 'believe', 'case', 'world', 'first', 'hi', 'wormy', 'saloon', 'personal', 'deleted', 'wiki', 'actually', 'need', 'must', 'making', 'admin', 'great', 'ask', 'said', 'under', 'our', 'anything', 'section', 'mean', 'oh', 'comment', 'simply', 'three', 'best', 'after', 'fair', 'understand', '2', 'yourself', 'using', 'still', 'words', '–', 'street', 'above', 'nothing', 'question', 'history', 'each', 'look', 'welcome', 'let', 'request', 'done', 'removed', 'bootleg', 'kind', 'person', 'never', 'site', 'reason', 'book', 'enough', 'matter', 'free', 'gay', 'english', 'care', '—', 'through', 'comments', 'last', 'hey', 'remove', 'point', 'references', 'support', 'better', 'makes', 'stupid', 'rationale', 'bit', 'day', 'hard', 'fact', 'hope', 'having', '~', 'thing', '[', 'years', '%', 'created', 'different', 'warning', 'list', \"you've\", 'contributions', 'utc', 'show', 'however', 'give', 'continue', 'style', 'questions', 'american', 'call', 'clearly', 'come', '1', '*', 'biased', 'links', '’', 'college', 'deletion', 'anti-semitism', 'long', 'asshole', 'leave', 'around', \"can't\", 'seem', 'found', 'vandalism', 'short', 'rather', 'provide', 'least', \"that's\", 'reverted', 'entry', 'dont', '25', 'disc', 'old', 'caused', 'issue', 'later', 'current', 'view', 'further', 'whether', 'government', 'main', 'both', 'ban', 'eat', 'yet', 'bastard', 'mother', 'topic', 'try', 'adding', 'getting', ']', 'revert', 'hit', 'once', 'knowledge', 'between', 'second', 'together', 'title', 'text', 'far', 'etc', '2012', 'problem', 'aig', 'feel', 'quite', 'though', 'attack', 'reliable', 'wrong', 'attitude', 'alone', 'check', 'called', 'man', 'redirect', 'change', 're', 'whole', 'idiot', 'account', 'upon', 'improve', \"didn't\", 'remember', 'part', 'policies', 'policy', 'respect', 'hello', 'everyone', 'instead', 'state', 'consensus', 'wall', '@', 'rugby', 'editor', 'left', 'admins', 'attacks', 'im', 'news', 'unblock', 'piece', 'editors', 'ip', 'act', 'note', 'website', 'mention', 'true', 'reference', 't', 'head', 'cannot', 'either', \"i'll\", 'moron', 'learn', 'lead', 'changes', 'saying', 'various', 'jews', 'days', 'statement', 'nonsense', 'original', 'faith', 'anyway', \"you'll\", 'definition', 'guidelines', 'able', 'beautiful', 'discuss', 'loan', 'bernanke', 'usa', 'possible', 'posted', 'scientific', 'correct', 'represented', \"isn't\", 'cheers', 'important', 'states', 'power', 'big', 'fine', 'cunt', 'political', 'during', 'common', 'listed', 'lot', 'completely', 'given', 'field', 'several', 'means', 'description', 'anyone', 'happy', 'suggest', 'mentioned', 'level', 'due', 'version', 'grammar', 'general', 'serious', 'guys', 'class', 'number', 'notable', 'whatever', 'absolutely', 'rfc', 'neutral', 'myself', 'probably', 'message', 'changed', 'seen', 'merge', 'reasons', 'google', 'says', 'thought', 'actions', 'related', 'hell', 'info', 'word', 'chavo', 'jr', 'played', 'complete', 'line', 'beth', 'party', 'band', 'needs', 'involved', 'lost', 'interest', 'therefore', 'media', 'evidence', 'dude', 'attention', 'faggot', 'goes', 'written', 'write', 'yes', 'claim', 'told', 'writing', 'type', 'ps', 'although', 'aware', 'until', \"doesn't\", 'dumb', 'deal', 'unblocked', 'appear', 'men', 'ahead', 'control', 'become', 'already', 'area', 'modern', 'sense', 'helpful', 'date', 'efforts', 'file', 'listen', 'stuff', 'blocking', 'agenda', 'dirty', 'ago', 'tags', 'certainly', \"i'd\", 'else', 'vote', 'sourcing', 'research', 'calling', 'form', 'greek', 'sr', 'clear', 'position', 'months', 'claims', 'study', 'themselves', 'women', 'oscar', 'gutierrez', 'bash', 'guerrero', \"what's\", 'argument', 'got', 'always', 'reverting', 'few', 'run', 'geitner', 'paulson', 'today', 'conflict', '_', 'religious', 'creation', 'process', 'jewish', 'lay', 'civility', 'clairsentience', 'persons', 'war', 'example', 'idea', 'perhaps', 'troll', 'lives', 'crap', 'available', 'talking', 'friends', 'according', 'group', 'parents', 'bad', 'considered', 'ok', \"he's\", 'truly', 'wanted', 'cause', 'ignorant', 'towards', 'itself', 'came', 'enjoy', 'gone', 'voting', 'market', 'four', ');', 'automatically', 'lack', 'images', \"won't\", 'suspect', 'saw', 'asked', 'template', 'outside', 'america', 'supposed', 'amount', 'ah', 'high', 'silly', 'logic', 'including', 'encyclopedia', 'examples', 'year', 'based', 'bring', 'meet', 'start', 'move', 'post', 'useful', 'dispute', 'die', 'fictional', 'south', 'appropriate', 'blue', 'seriously', 'wrote', 'palmer', '3', 'ridiculous', 'standard', 'users', 'facts', 'smackdown', 'heavyweight', 'champion', 'low', 'player', 'down', 'iq', 'final', 'answer', 'interested', 'tag', 'country', 'video', 'contact', 'justine', 'recent', 'went', 'french', 'lose', 'tool', 'applied', 'trying', 'create', 'couple', 'uses', '^', 'movement', 'speedy', 'homosexual', 'arms', 'points', 'previous', 'coming', 'forget', 'poor', 'bulls', 'cup', 'issues', 'physics', 'width', 'western', 'sahara', 'republic', 'lazy', 'reading', 'cited', 'included', 'p', 'felt', 'quality', 'wikipedian', 'assange', 'propaganda', '4', 'march', 'tell', 'harassment', 'mind', 'especially', 'statements', 'less', 'livery', 'address', 'discrimination', 'ya', 'ignorance', 'john', 'retarded', \"let's\", 'non-free', 'consistent', \"wikipedia's\", 'r', 'fucked', 'banned', 'school', 'mr', 'working', 'sex', 'course', 'body', 'death', 'behind', 'sock', 'contributors', 'preceding', 'subjects', 'million', 'stated', 'vandalize', 'nation', 'decide', 'stay', 'sign', 'tells', 'small', 'pathetic', 'computer', 'future', 'per', 'attempt', 'origin', 'allow', 'edited', 'times', 'nemonic', 'easy', 'significant', 'six', 'cos', 'took', '15', 'minutes', 'coat', 'damn', 'obvious', 'light', 'opinion', 'deleting', 'team', 'gonna', 'respond', 'rm', \"haven't\", 'worked', 'specific', 'wish', 'funny', 'lol', 'assume', 'beyond', '2010', 'eastlake', 'exit', 'putting', 'taken', 'james', 'disruptive', 'discussed', 'topics', 'share', 'hits', 'vfd', 'mine', 'dead', 'total', 'shawn', 'michaels', 'return', '100', 'looking', 'abused', 'along', 'noticed', 'removing', 'result', 'subject', 'moment', 'citation', 'conversation', 'spending', 'close', 'full', 'official', '10', 'regarding', 'public', 'global', 'markets', 'crisis', 'huge', 'jones', 'action', 'exist', 'placed', 'away', 'harry', 'australia', 'submission', 'community', 'avoid', 'e', '18', 'super', 'surname', 'review', 'fat', 'fun', 'justify', 'threatening', 'designed', 'horn', 'sahrawi', 'strong', 'rules', 'names', 'white', 'decision', 'anymore', 'founder', 'journalism', 'whereby', 'thoughts', 'abuse', 'liar', 'internet', 'law', 'business', 'events', 'distance', 'sound', 'access', 'material', 'mod', 'recently', 'sorry', 'report', 'dare', 'changing', 'space', 'language', 'books', 'born', 'assuming', 'civil', 'justification', 'criteria', 'showing', 'o', 'wanna', 'basically', 'contributing', 'gives', 'single', 'game', 'god', 'human', 'valid', 'color', 'ignore', 'prove', 'obtuse', 'serve', 'separate', 'actual', 'himself', 'ignoring', 'behavior', 'unsigned', 'except', 'equally', 'asking', 'effort', 'term', 'five', 'tildes', 'petty', 'status', 'contribute', 'evil', 'helping', 'decline', 'below', 'track', 'types', 'pretend', 'lies', 'parts', 'h', 'teach', 'shows', 'end', 'tagged', 'angry', 'cut', 'huskies', 'guess', 'pay', 'front', 'german', 'proposal', \"there's\", 'propose', 'accept', 'test', 'x', 'tom', 'equal', 'practice', 'often', 'solid', 'fight', 'ecw', 'moved', 'week', 'air', 'dx', 'ones', 'mos', 'uncivil', 'interesting', 'black', 'highest', 'rule', 'eyes', 'gave', 'g', 'advice', 'large', 'proof', 'earlier', 'system', 'thinks', 'yours', 'claiming', 'job', 'cross', 'album', 'response', 'errors', '8', 'players', 'profile', 'formal', 'baby', 'watch', 'tm', 'sourced', 'particularly', 'goal', 'middle', 'otherwise', 'crime', 'mainstream', 'rest', 'likely', 'living', 'sitting', 'red', 'held', 'definitely', 'canada', 'spend', 'finally', 'morning', 'summary', 'notice', 'quit', 'opinions', '2007', 'open', 'van', 'refusal', 'proposals', 'expert', 'directly', 'next', 'de', 'major', 'woman', 'supporters', 'format', 'looks', 'thus', 'citadel', 'calls', 'method', 'following', 'yeah', 'works', '___', 'category', 'reasoning', 'existing', \"people's\", 'uk', 'weapon', 'within', 'disputed', 'giving', 'thousands', 'terms', 'tamil', 'தமிழ்', 'வேண்டும்', 'everything', 'maybe', 'play', 'nt', 'ga', 'threats', 'christianity', 'explanation', 'hour', 'addition', 'requests', 'irish', 'entire', 'clairvoyance', 'tao', 'literature', 'background-color', '#f5fffa', 'vertical-align', 'stalker', 'ownership', 'personally', 'boys', 'mentioning', 'pretty', 'learning', 'allegations', 'warring', 'necessarily', 'corporate', 'americans', '2011', 'constant', 'honestly', 'posts', 'mistake', 'seeking', 'playground', 'boy', 'rude', 'blatant', 'laws', 'fire', 'lake', 'author', 'vietnamese', 'published', 'flawed', 'died', 'campaign', 'chart', 'phrase', 'near', 'speak', 'belongs', 'minority', 'suggests', 'april', '20', 'texas', 'wtf', 'guy', 'ways', 'federal', 'explaining', 'guideline', 'bed', 'whom', 'deserves', 'purpose', 'education', 'wait', 'slim', 'ganna', \"ain't\", 'fuckin', 'gets', 'family', 'sick', 'treated', 'seemed', 'numerous', 'self', 'sockpuppet', 'thinking', 'watching', 'everytime', 'don', 'handle', 'accused', 'accusing', 'correctly', 'strongly', 'continues', 'rfa', 'supported', 'hate', 'sir', 'suggestion', 'inappropriate', 'regarded', 'greatest', 'km2', 'russia', 'studied', 'prefer', 'pillars', 'tutorial', 'manual', 'produce', 'helpme', 'taking', 'project', 'appreciated', 'hopefully', 'professional', 'ability', 'courtesy', 'star', 'appears', 'speech', 'producer', 'imply', 'movies', '30', 'story', 'plus', 'concerned', 'former', 'latter', 'communicate', 'application', 'banning', 'mistakes', 'intentional', 'blood', 'visit', 'chinese', 'largely', 'truth', \"they're\", \"shouldn't\", 'paper', 'functions', 'simple', 'picked', 'press', 'truck', 'accordance', 'copyright', 'motherfucker', 'washington', 'fan', 'languages', 'love', 'nazi', 'fascist', 'link', 'prior', 'arguments', 'military', 'sections', 'exactly', 'wants', 'indeed', 'additionally', 'misleading', 'rhetorical', 'sandbox', 'rights', 'douche', 'starting', 'home', \"couldn't\", 'hardly', \"wasn't\", 'blvd', 'corrected', '429', 'compromise', 'penis', 'mirror', 'jannetty', 'officially', 'rumors', 'shortly', 'wwe', 'publicly', 'eric', 'university', 'acting', \"hadn't\", 'shame', 'standards', 'program', 'busking', 'venue', 'performance', 'entries', 'night', 'finished', 'silence', 'wont', 'bias', 'lived', 'poop', 'voted', 'mainly', 'primary', 'charge', 'figure', 'playing', 'decided', 'noise', 'waiting', 'stand', 'forces', 'kill', 'citing', 'early', 'career', 'disambiguation', 'listing', 'trivia', 'canadian', 'ragweed', '06:18', '06:05', 'whose', 'nice', 'c', 'importance', 'interwiki', 'internal', 'incoming', 'eg', 'age', 'era', 'century', 'cricket', 'ranked', 'series', 'everywhere', 'sentence', 'double', 'schulz', 'un', 'fiction', 'kids', '2009', 'disappear', 'experience', 'soon', 'reverts', 'priyanka', 'removal', '7', 'input', 'reviewer', 'pull', 'provided', 'count', 'matches', 'cock', 'knowing', 'situation', 'forgot', '“', '”', 'event', 'reporting', 'm', 'physical', 'room', 'presence', 'allowed', 'responsible', 'wore', 'virtually', 'display', 'finger', 'doubt', 'eventually', 'needed', 'associated', 'soviet', \"person's\", 'apparently', 'particular', 'car', 'jew', 'japanese', 'child', 'games', 'reflinks', 'tab', 'choose', 'apology', 'deserve', 'independence', 'movie', 'telling', 'fed', 'announced', 'insurance', 'issued', 'allowing', 'collapse', 'saved', 'understanding', 'depression', 'none', 'economy', 'lie', 'capital', 'esp', 'incorrect', 'dangerous', 'appeal', 'convinced', 'reply', 'order', 'copied', 'finding', 'relating', 'problems', 'skeptic', 'doc', 'hold', 'contribs', 'troy', 'apologize', 'btw', 'labour', 'communist', 'possibly', 'lady', 'follow', 'whitehead', 'restore', 'citations', 'ready', 'caption', '23', 'relevant', 'january', 'agreement', 'scheme', 'lassie', 'unique', 'structures', 'award', 'badge', 'require', 'hundreds', 'technology', 'fool', 'indicate', 'false', 'usually', 'value', 'intended', 'side', 'objects', 'children', 'sell', 'squad', 'half', 'national', 'currie', 'vodacom', 'indicator', 'cc', 'vc', 'defined', 'linked', 'ignored', 'alleged', 'authoritative', 'galloway', 'trouble', 'relation', 'weeks', 'kicked', 'glad', 'madness', 'extinction', 'eunuchs', 'decorated', 'afd', 'polygon', 'frequently', 'spot', 'nature', 'theory', 'pieces', 'pounder', 'gun', 'honest', 'equality', 'entirely', 'formatting', 'kwa', 'goaded', 'multiple', 'orthodox', 'interests', 'hours', 'vassal', 'salvador', 'mental', 'health', '5', 'rewrites', 'detail', 'barnstar', 'arthashastra', 'mckay', 'mainpagebg', '55', 'border', '1px', 'weapons', 'accuse', 'suit', 'properly', 'proud', 'gain', 'concerning', 'henry', 'dad', 'arrogance', 'leaving', 'precious', 'inquiry-based', 'alright', 'willing', 'cia', 'copy', 'quote', 'wikileaks', 'mostly', 'identify', 'δt', 'offensive', 'error', 'worry', \"mother's\", 'basement', 'whore', 'retarted', 'wiping', 'fucker', 'dumbass', 'throw', \"ya'll\", '1972', 'north', 'worse', 'almost', 'basis', '800', 'contrast', 'modified', 'express', 'unit', 'leacon', 'explain', 'effigy', 'studios', 'owner', '12th', 'doctor', 'dixon', 'individual', 'respected', 'judge', 'presented', 'sufficient', 'influential', 'smart', 'grow', 'brain', 'tribes', 'recognized', 'united', 'legitimate', 'usage', 'aka', 'girl', 'cheated', 'hurt', 'ultimately', 'property', 'childcare', 'treat', 'helpfully', 'fisherqueen', 'jump', 'maintain', 'honor', 'wrestler', 'episode', 'clean', 'season', 'unhelpful', 'continuously', 'aim', 'bother', 'afraid', 'peoples', 'genital', 'fit', 'wedge', 'keeps', 'assure', 'asskrack', 'puppetry', 'expect', '::', 'wishes', 'criticisms', 'logical', 'weak', 'bye', 'lmao', 'ima', 'miss', 'myspace', '`', 'criticism', 'looked', 'non-notable', 'acceptable', 'deletions', 'encyclopaedia', 'land', 'ottoman', 'empire', 'force', 'obviously', 'confederation', 'balls', 'porn', 'adult', 'film', 'ugly', 'anal', 'retentive', 'authority', 'seconds', 'recognition', 'professionals', 'highly', 'unfortunately', 'involvement', 'bertiebasset', 'well-meaning', 'moronic', 'failed', '2005', 'uploaded', 'damaged', 'fixed', 'violating', 'smallville', 'closer', 'mike', 'teaching', 'normally', 'implying', 'illegitimate', 'motivated', 'stubborn', 'taught', 'guidlines', 'powers', 'guidance', '←', 'positions', 'numbered', 'northern', 'shouting', 'learned', 'trig', 'oh-ah', 'ha', 'unlike', '1st', 'students', 'sin', 'tan', 'laughter', '45', 'speculation', 'unproven', 'charges', 'encyclopedic', 'happened', 'undue', 'load', 'jimmy', 'googlechromewindows5037538.png', 'thats', 'providing', 'remain', 'third', 'set', 'ducks', 'europe', 'map', 'uneducated', 'stick', 'hiding', 'pair', 'brief', 'discussions', 'limited', 'rebuttals', 'territory', 'serbia', 'dance', 'effect', \"where's\", 'co', 'perceived', 'proper', 'outcome', 'dr', 'immensely', 'obscure', 'balance', 'astrology', 'basic', 'freedom', 'plain', 'bunch', 'kindly', 'apart', '(:', 'racist', 'referring', 'paragraphs', 'forms', 'lame', 'xd', 'easily', 'accessible', 'library', 'difficult', 'signs', 'east', 'wrapped', 'city', 'pkwy', 'accessed', 'column', 'dahn', 'typical', 'loser', 'sexually', 'frustrated', 'net', 'omfg', 'insignificant', 'thnk', 'v', 'son', 'font-size', '85', 'gangrel', 'valet', 'bischoff', 'roster', 'talent', 'hasnt', 'released', 'signed', 'considering', 'match', 'sunday', 'promote', 'cant', 'seperate', 'albeit', \"aren't\", 'editorial', 'dates', 'threaten', 'blocks', 'wording', '21', '2008', 'weird', 'drops', 'brothers', 'african', 'nobody', 'experiment', 'notability', 'query', 'bag', 'performing', 'stage', 'distinction', 'pimping', 'aids', 'fascists', 'role', 'comply', 'fred', 'founders', 'sites', 'viewpoints', 'jerk', 'justified', 'returns', '34,900', 'inconsistent', '>', 'treatment', 'perceive', 'self-promotion', 'debate', 'realize', 'grounds', 'openly', 'publications', 'similar', 'arbitrary', 'seemingly', 'agf', 'shoulders', 'commons', 'solution', 'regular', 'celtic', 'hippo', '43', 'join', 'bullied', 'scottish', 'michael', 'belive', 'young', \"c'mon\", 'ur', '217.41', 'bugs', '05:21', '05:18', 'extreme', '10:09', '10:07', '10:05', '10:03', '06:28', '06:27', '06:24', 'billy', \"bob's\", '06:13', '06:12', '06:10', '06:09', 'india', 'recentism', 'trumper', 'supreme', 'dhoni', 'odd', 'lists', 'piss', 'stephan', 'writings', 'animal', 'censorship', 'politics', 'spam', 'stadium', 'shut', 'pregnant', 'expanded', 'box', 'fired', 'watford', 'beat', 'leeds', 'reach', 've', 'fall', 'reversion', 'referenced', 'excess', 'discussing', 'headed', 'walsh', 'whatsoever', 'materials', 'background', 'compound', 'devoted', 'appearances', 'shitty', 'feeling', 'spelling', 'ned', 'remarks', 'waiters', 'accounts', 'independently', 'merely', 'scene', 'credibility', 'recommend', 're-read', 'cite', 'authenticity', 'primarily', 'j', 'graduated', 'graduation', 'airport', 'plenty', 'passed', 'kept', 'location', 'sat', 'wine', 'continuing', 'house', 'alcohol', 'chatting', 'across', 'weekend', 'recliner', 'florida', 'skin', 'hair', 'thin', 'meeting', 'dress', 'stockings', 'heels', 'earrings', 'worn', 'fear', 'waking', 'inside', 'conduct', 'tiny', 'ear', 'absently', 'intimacy', 'bare', 'touches', 'familiar', 'intimate', 'longer', 'army', 'z', '6', 'curious', 'angle', 'declined', \"you'd\", 'airing', 'certain', 'bullshit', 'character', 'immature', 'figured', 'cry', 'favor', 'click', 'web', 'retard', '«', '»', 'tempted', 'resource', 'happens', '50', 'dollar', 'club', 'k', 'australian', '35', 'resulted', 'informed', 'conclusions', 'supporting', 'fail', 'massive', 'private', 'occurred', 'explained', 'treasury', '69.121', '221.97', 'higher', 'qualified', 'neither', 'appropriately', 'oil', 'gold', \"bernanke's\", 'clue', 'nearly', 'push', 'non', 'congress', 'subprime', 'overall', 'smaller', '$', 'retrenchment', 'governement', 'fault', 'destruction', 'formation', 'key', 'economic', '300', 'efficient', 'ventures', 'sequence', 'core', 'special', 'fraudulent', 'representation', 'biographies', 'negotiable', 'base', 'promotional', 'artist', 'served', 'followed', 'spoken', 'hat', 'puzzled', 'pov', 'wwi', 'approved', 'reader', 'matt', 'sanchez', 'oldest', 'visual', 'compare', 'tidy', 'table', 'necessary', 'cases', 'apply', 'received', 'swedish', 'upload', 'projects', 'tries', '82.224', '230.5', 'trolling', 'knows', 'fields', 'experts', 'educational', 'wonder', 'contribution', 'high-school', 'unquestionably', 'context', 'monster', 'sent', 'killed', 'versions', 'hercules', 'sack', 'uncivility', 'object', '=|', '__', 'brake', 'chain', 'cursed', 'uglyness', 'pass', 'napier', 'fit.jpg.jpg', 'altered', 'search', \"hasn't\", 'explicitly', 'partido', 'translated', 'alternative', 'spanish', 'mascots', \"world's\", 'formed', 'deserved', 'bars', 'engage', 'fuckers', 'counted', 'figures', 'conditions', 'makers', 'hand', 'instance', 'declared', 'accepted', 'yugoslavia', 'draw', 'manga', 'binksternet', 'cronies', 'insert', 'placing', 'improving', 'wrights', 'reported', 'unreliable', 'bottom', 'refrain', \"article's\", 'meets', 'rick', 'infected', 'year-old', 'sexual', 'sucks', 'defines', 'countries', 'classification', 'romance', 'commonly', 'submitted', 'recorded', 'desk', 'salty', 'demonstrate', 'arborsculpture', 'purple', 'truthseekers', 'facist', 'murderers', 'unbiased', 'hon', 'edit-warring', 'laugh', 'abusive', 'disrespectful', 'dutch', 'fly', '‘', 'tilde', 'cedilla', 'pronunciatory', 'quickly', 'donkey', 'organisation', 'members', 'affirmative', 'tamilian', 'bodhidharma', 'அவர்', 'மக்கள்', 'ஆதாரம்', 'அனைத்து', 'நாம்', 'amplitude', 'cultural', 'porto', 'alegre', 'cd-r', 'bruno', 'jazz', 'improv', 'cp', 'believed', 'music', '1991', 'toys', 'direction', 'among', '9', 'ages', 'teenagers', 'insulted', 'teenage', 'che', 'latin', 'ferret', 'dean', 'greyling', 'rayno', 'gerber', 'rossouw', 'klerk', 'basil', 'chiliboy', 'ralepelle', 'africa', 'sorted', 'anti-zionism', \"we've\", 'religion', 'denied', 'theories', 'acts', 'arab', 'israel', 'groups', 'international', 'offer', 'livingstone', 'archives', 'weight', 'frighten', 'fry', '94.8', '193.32', 'literally', 'norman', 'lowell', 'beardy', 'puppet', 'anime', 'afc', 'september', 'investigation', 'meaning', 'judaism', 'targeted', 'whoever', 'approach', 'counter', 'productive', 'protect', 'intentionally', 'intention', 'pig', 'barrymore', 'shiroi', 'readers', \"pic's\", 'anus', 'refer', 'slavs', 'destroy', 'shall', 'nomination', 'otters', 'build', 'industrial', 'beef', 'argue', 'heading', 'regard', 'euclidean', 'mathematical', 'approaches', 'polytopes', 'convex', 'described', 'begins', 'paragraph', 'grünbaum', 'submitting', 'dear', 'disrupting', 'wondering', 'insult', 'neopaganism', 'reaction', 'period', 'expired', 'procedure', 'comitted', 'repeatedly', \"one's\", 'takng', 'prevent', 'fanpop', 'disapprove', 'caught', 'solve', 'science', 'worthy', 'refers', 'eu', 'citizens', 'accession', 'june', 'built', 'pack', 'combined', 'f2', 'design', 'replacing', 'centuries', 'spelled', 'pointed', 'ani', 'worth', 'whilst', 'pr', 'dabble', 'lacking', 'improvements', 'complaints', 'nazis', 'excellent', 'dicono', 'signa', 're-write', 'progess', \"we're\", 'neiln', 'include', 'operational', 'diligence', 'mexico', 'arse', 'yesterday', 'individuals', 'concerns', 'becomes', 'administrator', 'discretion', 'admit', 'heritage', 'wasting', 'rambhadracharya', 'assessment', 'email', 'twist', 'external', 'pending', 'tim', 'appalling', 'reviewed', 'numbers', 'addressed', ':p', 'thugs', 'adminship', 'step', 'path', 'el', 'nicaragua', 'childishly', 'meaningless', 'ive', 'endless', 'matereal', 'wikpedia', 'referencing', 'philosophical', 'fulfill', 'integrity', 'bar', 'struggle', 'manifest', 'niggers', 'started', 'break', 'isis', 'cyberdyne', 'ling', 'dvd.jpg', 'checking', 'circumstances', 'undermine', 'lamellae', 'marketing', 'mountains', 'penmon', 'suggested', 'nominating', 'tc', 'fukin', 'pattern', 'apologise', 'stupidity', 'misery', 'qed', 'https://en.wikipedia.org/wiki/mckay', 'surnames', 'border-spacing', ':8', 'px', 'margin', '0px', '8p', '#ffffff', 'koavf', 'smallminded', 'target', 'portal', 'watches', 'mytalk', 'easier', 'suppose', '88', 'signatories', 'detract', 'voluntarily', 'rushed', 'judgment', 'incident', 'attempted', 'hoax', 'crystal', 'gail', 'mangum', 'lee', 'lucas', 'vile', 'post-modernist', 'sewer', 'cleansed', 'simon', 'awesome', 'cares', 'impunity', 'concede', 'flimsy', 'wikleaks', 'msnbc.com', 'msnbc', 'stories', 'meme', 'founded', 'promulgated', 'vilify', 'minds', 'lynched', '101', 'thc', 'loadee', '04:08', 'cannt', 'insuliting', 'harrassing', 'moderator', 'tripping', 'enter', 'forgive', 'blazikenmaster', 'stikes', 'unnecessarily', 'jizz', 'muther', 'sincere', 'slander', 'mindless', 'geogre', 'slanderous', 'muthafuckas', 'dated', 'tract', 'vietnam', '1950s', 'kinds', 'condiscending', 'starts', 'embarrasing', 'won', 'awards', 'anti-landlord', 'nlf', 'stanley', 'karnow', '1983', 'hysterical', 'climate', '78.146', '90.164', 'swt', 'conforms', 'disability', 'grey', 'gatwick', '442', 'puting', 'units', 'benidorm', 'valencia', 'valencian', 'catalan', 'michigan', 'lookup', 'eminem', 'thomas', 'w', 'johnson', 'supremacist', 'tomfoolery', 'imediately', 'bully', 'worm', 'allen', 'lyle', 'campbell', 'scholar', 'australianist', 'competent', 'cambridge', 'surveys', 'sole', 'composer', 'coeditor', 'alles', 'liebe', 'haines', '1420', 'houston', 'missionary', 'wront', 'vandalized', 'numnut', 'gentlemen', 'unrecognized', 'cherokee', 'newly', 'tribe', 'belong', 'fantasize', 'seeing', 'girlfriend', 'blindfold', 'tie', 'fantasy', 'govt', 'paying', 'kindergarten', 'excuse', 'ipa', 'vowel', 'audio', 'ideot', 'wid', 'psp', 'ta', 'weather', 'wit', 'homie', 'bout', 'mutha', 'syte', '3:00', 'hack', 'shyt', 'harras', 'basicly', 'ruin', 'failure', 'father', 'pleasure', 'derive', 'hatred', 'shed', 'tears', 'joy', 'disrupt', 'ring', 'humor', 'shootings', 'happen', 'innocent', 'forced', 'sandwiches', 'disruptor', 'layout', 'organized', '#series', '#titleu', 'airdateproduction', 'code', 'butts', 'screw', 'butthole', 'krabs', 'brandon', 'likes', 'delldos', 'mouththe', 'angus', 'finn', 'arnesson', 'correcting', 'eye', 'centered', 'listening', 'lodge', 'complaint', 'oblivious', 'pleads', 'corrections', 'wikipedia_talk', 'manual_of_style', 'dates_and_numbers', '#k_', '28or_k', '29_the_computer_kilo', '_prefix_', '_for_ancient_computers', '_not_using_bytes', 'hanibal', '911you', 'pro-assad', 'rebels', 'aleppo', 'central', 'prison', \"assad's\", 'mother-assad.you', 'eats', 'assad', 'gvhy', 'residents', \"starlet's\", 'philanthropy', 'exhaust', 'victims', 'torture', 'murder', 'utterly', 'revolting', 'whitewash', 'dimension', 'akradecki', 'bush', 'billcj', 'bzuk', 'fo', 'backs', 'organising', 'apersonal', 'complaining', 'deliberately', 'negative', 'consensuses', 'repetative', 'inserts', 'environmental', 'erroneously', 'contines', 'defences', 'eurocentric', 'essentially', 'racialist', 'essence', 'answering', 'wasz', 'gon', 'dhis', 'logged', 'wat', 'sed', 'tho', 'neva', 'll', 'numba', 'thur', 'bighead', 'sarekofvulcan', 'confidence', 'misplaced', 'opposed', 'adjust', 'accordingly', 'bro', 'fagplease', '71.100', '31.227', 'gayreeks', 'nicely', 'executed', 'mates', 'empires', 'extent', 'comapre', '19.9', '17', 'roman', 'territories', '5.9', 'furthermore', 'visited', \"ragib's\", 'ragib', 'bangladesh', 'similarly', 'parochial', 'chauvinist', 'un-necessary', 'snubbed', 'cumans', 'kipchaks', 'late', 'tatars', 'cossack', 'adventurer', 'turkish', 'turkic', 'origins', 'cossacks', 'tribal', 'race', 'suxk', 'sssss', 'prejudicial', 'industry', 'reset', 'modem', 'sexless', 'desperate', 'society', 'lower', 'ill', 'pizza', 'bertie', 'talents', 'helps', 'advance', 'agreed', 'deprived', 'sterile', 'sake', 'generations', 'detracts', 'hinders', 'betterment', 'vision', 'intelligence', 'regrettably', 'extended', 'remembered', 'deserving', 'amateurs', 'dannyg', '3332', '27', 'nov', 'cory', 'adams', 'telenet', 'uncovers', 'superman', 'homepage', 'continuity', 'mixture', 'dealing', \"superman's\", 'christopher', 'reeve', 'lex', 'rosenbaum', 'gene', 'hackman', 'goodness', 'prescription', 'wicked', 'linguists', 'abnormal', 'notion', 'culpable', 'decisions', 'ourselves', 'perverse', 'deplorable', 'patently', 'begin', 'incapable', 'acquire', 'instruction', 'invalid', 'activity', 'prescriptive', 'suggesting', 'timidity', 'laziness', 'irresponsibility', 'dedicated', 'proficiency', 'composition', 'nor', 'wikieditor', '006', 'ale_jrb', 'vendetta', 'intend', 'higher-ups', 'abusing', 'unless', 'immediately', '-67.173', '77.52', 'spilling', 'dying', 'deaths', 'unc', \"who're\", 'advantageous', 'bigger', 'noisy', 'crowd', 'brainwashed', 'chauvinistic', 'fanatic', 'naturally', 'admitting', 'circulated', 'messages', 'chiense', 'repeating', 'thousand', 'perfect', 'eyesights', 'consciousness', 'difference', 'naive', 'complicated', 'buried', 'takes', 'memory', 'consideration', 'tables', 'markup', 'ah-oh', 'ho', 'moderately', 'fast', 'sine', 'cosine', 'tangent', 'cotangent', 'secant', 'cosecant', 'soa-cah-toa', 'memorize', 'inverses', 'tongue', 'twister', 'memorable', '+', \"today's\", 'soh', 'cah', 'toa', 'mindedness', 'unsubstantiated', 'poorly', 'documented', 'editorialize', 'hide', 'spin', 'damaging', 'speculated', 'partisan', 'acted', 'proven', 'violation', 'established', 'blp', 'blpstyle', 'atricle', 'regurgitation', 'dump', 'junk', 'closing', 'leader', 'tabloid', 'wales', 'aloud', 'painting', 'herself', '70.26', '72.221', 'expecting', 'lords', 'choices', 'dishonore', 'ou', 'choice', 'suitable', 'heart', 'uw', 'dawgs', 'oregon', 'beating', 'crushed', 'ashamed', 'butthurt', 'calm', 'sucking', 'patrick', 'tommy', 'adolf', 'nose', 'affairs', 'concern', 'wannabe', 'screen', 'asshat', 'clownshoes', 'twit', 'clowns', 'feeble', '1000', 'reactions', 'commander', 'occupation', 'sooner', 'noticeboards', \"we'd\", 'annoying', 'song', 'posting', 'antidiskriminator', 'new-found', 'ally', 'oppose', 'agreed-upon', 'effective', 'complex', 'thoroughly', 'bogged-down', 'on-the-fly', 'drowned', 'far-more-knowledgeable', 'retorts', 'long-time', 'participants', 'experimenting', 'tests', '✍', 'commented', '#more', 'fuckwit', 'expression', 'rant', 'ridicilous', 'proves', 'bags', \"should've\", 'bombed', 'wwii', 'jim', 'sending', 'bestest', 'buddy', 'sidenote', 'xizer', 'dan', 'footing', 'abstract', 'summarizing', 'substance', 'relations', 'youths', 'satisfying', 'requirements', 'prehistory', 'basing', 'historians', 'suppositions', 'practices', 'prehistoric', 'precedent', 'tenuous', 'pederasty', 'worthless', 'cocksucking', 'successfully', 'preaching', 'choir', 'ntv', 'gag', 'tempting', 'eh', 'illustration', 'shabby-russian-village-population-five', 'yo', '19', '21:47', 'rose', 'librarian', 'bloody', 'categories', 'devil', 'cultist', 'mofo', 'martin', 'muljana', 'transwikied', 'driver', 'construction', 'phase', 'carson', 'freeway', 'analogous', '430', 'damonte', 'ranch', 'meadows', 'neil', 'road', 'virginia', 'interchanges', 'notes', 'illiterate', 'inability', 'satisfy', 'headline', 'lover', 'motha', 'fucka', 'yr', 'viewing', 'outdated', 'affiliation', 'located', 'http://en.wikipedia.org/wiki/', 'sylvester', 'terkay', 'elijah', 'burke', 'theyre', 'promo', 'khali', 'bodyguard', 'daivari', 'wrestled', 'idk', 'isnt', 'marty', 'brand', 'hes', 'inactive', 'untrue', 'ties', 'overweight', 'angel', 'williams', 'gymini', 'dark', 'sd', 'lastly', 'shouldnt', 'raw', 'cyber', 'develop', 'storyline', 'screwed', 'chris', 'purposes', 'eternals', 'deviants', 'inhumans', 'races', 'interbreed', 'humans', 'unmanageable', 'biaatch', 'posers', 'statistics', '1.0', 'pittsburgh', 'usbecause', 'kn', 'delinking', 'adminster', 'quadell', 'ambi', 'vsmith', 'feels', 'adhered', 'advocating', 'ncdave', '17:53', 'dominican', 'proportion', 'blacks', 'hispanic', 'one-drop', 'blind', 'bats', 'rely', 'russian', 'dumm', 'rabbits', 'hike', '123', 'teawiki', 'www.tea.wikia.org', 'transferring', 'baggage', 'theatre', 'opera', 'ballet', 'criminial', 'loose', 'l', 'downtown', 'preach', 'kenny', 'jfd', 'skies', 'complain', 'atrosity', 'tay', 'evaluate', '74.56', '51.128', 'dpak', 'dsuza', 'offend', 'martial', 'earth', 'permanently', 'farce', 'objective', 'knol', 'horizon', 'replacement', 'mask', 'npov', 'opposing', 'permanent', 'yourwarning', 'shake', 'salt', 'shove', 'pipe', 'agarwals', 'dravidian', 'atr', 'dogs', 'inaccuracies', '117.211', '90.154', 'teadrinker', 'nickname', 'e-dog', '13500', 'cato', '19,000', '35000', '19000', '50,000', 'refrained', 'pressure', 'fits', 'applies', 'abstain', 'understandable', 'justice', 'seeker', 'vindicate', 'unfair', 'moon', 'minding', 'okay', 'mei', 'konw', 'vanity', 'pissed', 'rebutted', 'initiated', \"palmer's\", 'vandalizedhans-hermann', 'hoppe', 'lew', 'rockwell', 'racism', 'ensuing', 'qualify', 'wikinerds', 'dishonestly', 'anonymously', 'meatpuppet', 'hidden', 'rolling', 'ot', 'voters', 'evaluation', 'aplication', 'leads', 'peopel', '13000', 'blame', 'monitoring', 'nom', 'lsi', 'invited', 'rfar', 'substantiate', 'adequate', 'burden', 'rests', 'squarely', 'yep', 'ww', 'past', 'uploading', 'photos', 'technical', 'calabe', 'record', 'pursued', 'originator', 'defended', 'occasions', 'jack', 'forbes', 'deacon', 'pndapetzim', 'folks', 'abuses', 'pursuing', 'defence', 'footbal', 'football', 'rangers', 'presenting', 'burn', 'ruddy', 'liberal', 'moore', 'truthful', 'tits', 'snatch', 'sexuality', 'mabye', 'partner', 'pop', 'aaron', 'brennenman', 'sincerly', 'sentiment', 'fagget', '58.8', '18.35', 'holdwater', 'wife', 'unsatisfied', 'cont', 'nasty', '232.75', 'relentless', 'persecution', 'quiet', 'currant', '226.121', 'lowlife', 'resurected', 'wikzilla', '98.162', '163.72', 'perezhilton', 'sucker', '05:35', 'glen', 'jacobs', '05:22', 'jonathan', 'coachman', '05:20', '05:19', '05:17', 'd-generation', '18:29', 'hank', '15:09', '14:56', 'stone', 'cold', 'steve', 'austin', 'finishing', 'signature', 'moves', '14:54', 'championship', 'wrestling', '10:15', '10:14', '10:11', '10:10', 'fishman', '10:08', '10:06', '10:01', '10:00', '09:59', '09:57', 'hitting', 'rey.jpg', 'http://www.wwe.com/shows/thegreatamericanbash/photos/', \"chavo's\", 'heel', 'turn', 'rey', '06:25', '06:23', '06:22', 'garage', '06:20', 'highway', '377', '06:19', '06:17', '06:16', '06:15', '06:11', 'liveloud', 'jpg', 'dustind', '06:08', '06:07', '06:06', 'hy', 'proxies', 'kerala', 'kerala-importance', 'assess-date', 'dependent', 'victor', 'crown', 'prince', 'golden', 'stylist', 'batsman', '1890-1920', 'giants', 'wisden', 'inuaugural', 'inductee', 'achof', '105', 'mahendra', 'singh', 'captain', '30th', 'batting', 'criticised', 'regualrly', 'unforced', 'ball-catching', '170', 'tournament', '200', 'calendar', 'poll', 'unacceptable', 'editted', 'containing', 'vague', 'pronoun', 'unrelated', 'blog', 'unfarily', 'riding', 'sane', 'attest', 'narrow-minded', 'puts', 'ridicules', 'leash', 'socialist', 'climatology', 'conversion', 'spewed', 'yes-men', 'scientists', 'ipcc', 'shagger', 'brutal', 'demonstrating', 'civilization', \"auburnpilot's\", 'wikisophistry', 'strategem', 'censoring', 'dislikes', 'croke', 'park', 'gaa', 'arena', 'falls', 'cat', 'ariva', 'achieve', 'undo', 'jackass', 'absolute', 'convince', 'dilweed', 'jackoff', 'incorporated', 'silhouette', 'gothic', 'niederlandish', 'art', 'botticelli', 'italian', 'renaissance', 'classical', 'fashion', '10:29', 'dunning-kruger', 'treating', 'guoguo', '12', 'talkback', 'tdawg', '4701', 'shahid', 'cleanup.he', 'preity', 'zinta', 'building', 'chopra', 'expanded.he', 'writer.when', 'sectiond', 'humanitarian', 'notably', 'refrence', 'always.according', 'musicians', 'edits.also', 'songs', 'songwriter', 'again.that', 'leading', 'abuse.you', 'shoul', 'expand', 'bold', 'legs', 'play-off', 'semi-final', 'premiership', 'semi', 'dreamguy', 'irwolfie', 'amounts', 'unaware', 'arbcom', 'discretionary', 'sanctions', 'peremptory', 'controversial', 'confrontational', 'self-reverting', 'mediation', 'reviews', 'objection', 'fancruft', 'careful', 'minute', 'contain', 'smuggling', 'condoms', 'seran', 'wrap', 'size', 'pre-amalgamation', 'hamilton', 'toronto', '24.36', '54.238', 'eisenhower', 'bum', 'golf', 'constantly', 'nixon', 'ran', 'historic', 'basics', 'pronounce', 'literaly', 'litrally', 'chic', 'crackpots', 'luckiest', 'nhl', 'extensive', 'linguistics', 'compounds', 'phrases', 'concept', 'compounding', 'merging', 'lexeme', 'lexemes', 'spaces', 'item', 'proved', 'scope', 'nah', 'beach', 'pier', 'cetaceans', 'shore', 'earn', 'blundering', 'boat', 'goals', 'domestic', 'league', 'scored', 'friendly', 'mexican', 'mexicans', 'departed', 'nerd', 'precise', 'forever', 'douchebag', 'adam', 'carr', 'longhair', 'politically', 'commies', 'lefties', 'righties', 'pricks', 'wikiepdians', 'kelly', 'e-life', 'wolfkeeper', 'evident', 'conclude', 'oath', 'corroborate', 'captured', 'lends', 'rs', 'haven', 'dug', 'outlets', 'assured', 'recognize', 'compliant', 'accord', 'debating', 'hahaahahahahahahaha', 'vandalise', 'enthusiastic', 'hugs', 'dinner', 'shared', 'local', 'restaurant', 'comfort', 'attraction', 'undeniable', 'returned', 'cozy', 'semi-secluded', 'suburbs', 'sipping', 'tales', 'exceptions', 'tight-knit', 'friends-with-benefits', 'sharing', 'drink', 'roommates', 'dorm', 'quad', 'much-welcomed', 'guests', 'fortunately', 'hectic', 'schedules', 'sip', 'linger', 'sun', 'glow', \"justine's\", 'lighter', 'shade', 'shoulder-length', 'brown', 'make-up', 'gloss', 'lips', 'enticing', 'strawberry', 'flavor', 'discovered', 'evening', 'fingernails', 'elegant', 'plunging', 'sequined', 'neckline', 'permitted', 'cleavage', 'slit', 'skirt', 'revealed', 'wearing', 'garter', 'belt', 'descending', 'straps', 'noticeable', 'well-toned', 'thigh', 'attract', 'surprisingly', 'hoop', 'ears', 'widen', 'piercing', 'holes', 'safe', 'turned', 'toward', 'opportunity', 'impressed', 'noticeably', 'shorter', 'paler', 'complexion', 'testament', 'preferred', 'outfits', 'somewhat-tight', 'sweater', 'form-fitting', 'slacks', 'adorned', 'bore', 'sparkling', 'stud', 'nostril', \"beth's\", 'flowed', 'twirled', 'strands', 'listened', 'relationships', 'graduating', 'thankful', 'invite', 'chatter', 'sit', 'admire', 'stunning', 'beauties', 'perched', 'sofa', 'began', 'covers', 'feminine', 'resting', 'softly', 'shoulder', 'arm', 'stroked', 'chest', 'dipped', 'navel', 'brushed', 'thighs', 'sweatpants', 'typically', 'caressed', 'stiffening', 'manhood', 'closed', 'reveled', 'inherently', 'rediscovery', 'lengthy', 'passage', 'hands', 'occasionally', 'smiled', 'darkness', 'enjoyed', 'encounters', 'slowed', 'ceased', 'breathing', 'falling', 'regularity', 'sleep', 'stayed', 'awake', 'enjoying', 'closeness', 'awoke', 'scent', 'roast', 'coffee', 'faint', 'unmistakable', 'brewed', 'nectar', 'sh', 'stub', 'tankmen', 'armoured', 'troops', '2005-12-', '17:34', \"user's\", 'csds', 'accidental', 'reinstate', 'unsourced', 'intentions', 'temperarily', 'blanking', 'send', 'timeslot', 'hopping', \"wpbs's\", 'notorious', 'habit', 'shifting', 'timeslots', 'programs', \"they've\", \"blake's\", 'dwarf', \"liberty's\", 'viewers', '76.235', '235.223', 'sooooooooooooo', 'haz', 'dcandeto', 'smells', '90', 'broken', 'masturbator', 'onanizing', 'brainsick', 'spread', 'freaky', 'importand', 'stealing', 'pollute', \"obama's\", 'snot', '33', 'creations', '17:33', 'wow', 'aliases', 'twice', 'daymee', 'friend', 'bothering', 'b', 'username', '70.127', '205.121', 'pc', 'ref', '}:', 'conclusion', \"dude's\", 'pimp', 'chair', 'exudes', 'pimpocity', 'contacting', 'substantive', 'abject', 'picture', 'https://www.cia.gov/library/publications/the-world-factbook/geos/in.html', 'gogh', \"cent's\", 'f', 'yeeaaaaahh', 'fighters', 'constitute', 'yank', 'modification', 'win', '173.76', '119.10', 'arranged', 'timothy', 'president', 'ny', 'nyc', 'newspapers', '40', 'billion', 'res', 'timonthy', 'bernake', '100s', 'billions', 'mortgage', 'trillions', 'derivatives', \"aig's\", 'credited', 'saving', 'reversed', 'gietner', 'depth', 'dictate', 'systemic', 'risk', 'shown', 'determine', 'harvey', 'keitel', 'markit', 'bon', 'vivant', 'touted', 'via', 'fighting', 'spike', 'prices', 'meltdown', 'studies', 'ioq', 'ix', 'demonizing', 'bubble', 'greenspan', 'mortgages', 'fannie', 'mae', 'debacle', 'beginning', 'projected', 'inflation', 'spikes', 'massively', 'slammed', 'perking', 'debaclev', 'trillion', 'jaw', 'boning', 'funds', 'coup', 'grace', 'consumers', 'hugely', 'obama', 'mouthed', 'aided', 'consumer', 'congres', 'pundits', 'population', \"street's\", 'gambling', 'distortion', 'features', 'oversight', 'protecting', 'engine', 'growth', 'distribution', 'mouthing', 'heads', 'cnn', 'cnbc', 'severely', 'dominance', 'leadership', 'prosecute', 'selling', 'firms', 'banks', 'increasing', 'crecend', 'stripped', 'bones', 'apparent', 'elias', 'temporarily', 'label', 'blogs', 'flexibility', 'filled', 'puff', 'cushion', 'management', 'closet', \"everyone's\", 'miserable', '2k15', 'confirmed', 'bugging', 'threat', 'annoyed', 'kidding', 'elliott', 'gorn', '2001', 'isbn', '0-8090-', '7094-4', 'describing', 'offended', 'relished', 'improper', 'mistaken', 'perception', 'supporter', 'raymond', 'cambefort', 'gainsay', 'soldier', 'vet', 'cuz', 'funeral', 'sincerily', 'taste', 'disadvantages', 'contains', 'duplicate', 'appealing', 'fills', 'breaks', 'surprised', 'real-time', 'reconstructed', 'charlotte', 'benkner', 'older', 'technically', 'redundancy', 'visually', 'yakłtalk', 'tome', 'empty', 'thoughtlessness', 'theoretical', 'retroactive', 'two-liner', 'whereas', 'consideirng', 'horace', 'wass', 'athanasiou', 'diakou', 'sv', 'sjömarken', 'pictures', 'average', 'utilitarianism', 'replace', 'evergreenfir', 'transform', 'muahahaha', 'scientifics', 'graded', 'debunker', 'debunk', 'http://www.sptimes.com/floridian/41498/the__quack__hunter.html', 'amazing', 'skepticism', 'h2g2bob', '12/13', 'non-life', 'geek', 'talkng', 'trust', 'skills', 'personality', 'intellectual', 'abilities', 'flummery', 'enlist', 'skill', 'randi', 'expertise', 'scientifc', 'kings', 'pitious', 'scietific', 'vs', 'non-scientific', 'methods', 'explains', 'psychics', 'fakers', 'challenge', 'minus', 'inferred', 'guessing', 'degree', 'attended', 'demonstrates', 'attacking', 'poseidon', 'perseus', 'myth', 'herakles', 'slew', 'prize', 'led', 'sons', 'aeacus', 'trojan', 'anti-russian', 'mud', 'whats', 'lgbt', 'tiderolls', 'phage', 'desperately', 'files', 'breach', 'apologised', 'refusing', 'acknowledge', 'acknowledgement', 'irrelevant', 'generic', 'correspondents', 'del', 'trabajo', 'albanian', 'parties', 'identical', 'launched', 'x-country', 'laborista', 'customisable', 'steel', 'poured', 'bolton', 'steelworks', 'girder', 'reaches', 'characters', 'realisation', '86.173', '169.144', 'drunk', 'sock-puppet', 'infamous', 'pé', 'chinelo', 'soulless', 'paul', 'gamergate', 'proposed', '22', 'sometimes', 'dozens', 'retiring', 'arbitrators', 'chance', 'bound', 'wade', 'morass', 'allways', 'wind', 'hill', 'ect', 'actualy', 'laara', 'lick', 'pussy', 'bih', 'stoped', 'slovenia', 'otrs', 'ticket', '2009051010', '000428', 'boze', 'hadleigh', 'monkeyzpop', 'questioning', 'illuminate', 'http://en.wikipedia.org/wiki/talk:boze_hadleigh', 'eternal', 'pink', 'named', 'evreryone', 'rubbish', 'finish', 'adamant', 'hasnains', 'arrested', 'traced', 'mercury', 'pakistan', 'beauty', 'pageant', 'non-reliable', 'secure', 'defaming', 'rumour', 'dismissed', 'defame', 'labelled', 'rumours', 'sonisona', 'gustave', 'denigrates', 'researchers', 'negativity', 'appearance', 'hens', 'wright', 'enthusiasts', 'controlling', 'non-neutral', 'dislike', 'television', 'ct', 'legislature', 'flight', \"jane's\", 'bible', 'aviation', 'determined', 'open-minded', 'cult', 'anothor', 'tv', 'specializes', 'historical', 'documentaries', 'mobbing', 'mob', 'bitter', 'connection', 'legend', 'introducing', 'contest', 'db', 'coupled', 'criterion', 'delay', 'hesitate', 'render', 'conformance', 'lomobile', 'dope', 'vandalising', 'tough', 'criticizing', 'mom', 'reads', 'intensely', 'pruritic', 'papulonodular', 'eruption', 'orientation', 'desease', 'enforce', 'stereotype', 'stds', '88.217', '49.147', 'terrorist', 'democrats', 'elonka', 'cocks', 'standardization', 'nz', 'missile', 'propulsive', 'energy', 'launch', 'ar', '310-25', 'speaking', 'placement', 'gallo-italic', 'italo-dalmatian', 'hahahahahaha', 'mwahahahahaha', 'herbine', 'arkansas', 'assessed', 'stub-class', 'grading', 'registering', \"reviewer's\", 'organ', 'meat', 'tasty', 'salted', 'wegetarian', 'swallow', 'gratify', 'consume', 'curry', 'scented', 'plan', 'bending', 'grafting', 'shoots', 'unusual', 'designs', 'rape', 'naconkantari', 'rapists', 'finder', 'anonymous', 'everybody', 'hip-hop', 'mc', 'lyte', 'emcees', 'female', 'emcee', 'undisputed', 'tomstar', '81', 'staff', 'courageous', 'forthright', 'exemplary', 'reconition', 'honoured', 'traditions', 'dictators', 'mass', 'forehead', 'diligent', 'factual', 'keen', 'newcomers', 'fend', 'rerasons', 'calibre', 'sanshonest', 'leaders', 'aligned', 'disagree', 'rewriting', 'lord', 'jane', 'poshname', 'maj', 'bellamy', 'hunk', 'controversy', 'circular', 'crazy', 'communications', 'disagreed', 'disagreement', 'ockels', 'astronaut', 'prgram', 'lodewijk', 'den', 'berg', 'ñ', 'ç', 'learns', 'piñata', 'façade', 'pronounced', 'ʻokina', 'learnt', 'unfamiliar', 'therewith', 'borrowed', 'function', 'aid', \"mi'kmaq\", 'hieroglyphic', 'majority', 'homeland', 'ravaged', 'benefit', 'british', 'courts', 'unconstitutional', 'becuase', 'disriminates', 'bodhidarama', 'forgotten', 'outsiders', 'பட்டியலில்', 'சேர்க்க', 'வருகிறார்', 'எனவே', 'நான்', 'எ', 'கா', 'வீடியோ', 'வலைத்தளம்', 'ஒரு', 'என்று', 'கட்டுரைகள்', 'கண்டுபிடிக்க', 'உதவ', 'தோழர்களே', 'மற்ற', 'எங்கள்', 'வரலாற்றில்', 'மறக்க', 'செய்ய', 'விடமாட்டேன்', 'கிடைத்தால்', 'பிறகு', 'மக்களின்', 'கட்டுரையில்', 'இருக்கும்', 'நம்', 'வரலாறு', 'எந்த', 'வெளி', 'மறந்து', 'மற்றும்', 'மாற்ற', 'நன்றி', 'observe', 'terminology', 'maximum', 'elelctric', 'peak', 'electric', 'vary', 'jamais', 'fomos', 'modernos', 'december', 'ken', 'vandermark', 'concert', 'santander', 'brazil', 'featuring', 'bode', 'eleven', 'ambient', 'electronics', 'institutions', 'releasing', 'netlabels', 'distros', 'drummer', 'styles', 'focus', 'bass', 'trio', 'punk', 'rock', 'diego', 'solo', 'clarinet', 'audience', 'freely', 'improvised', 'structured', 'improvisation', 'homonymous', 'antropology', 'essay', 'latour', 'instruments', 'flutes', 'whistles', 'harmonicas', 'kazoos', 'percussion', 'aleatory', 'intuitive', 'session', 'offers', 'mats', 'gustafsson', '15th', 'distributed', 'aficionados', 'mold', 'butt', 'insistent', 'uhhhh', 'touch', 'ancient', 'crock', 'dictionary', 'infancy', 'puberty', 'remotely', 'salacious', 'adults', 'describe', 'problematical', 'ultimate', 'legally', 'define', 'minors', 'babies', 'raped', 'judith', \"reisman's\", \"ashcroft's\", 'david', \"finkelhor's\", 'semantic', 'employed', 'disqualification', 'holding', 'perspective', 'perpetuating', 'pseudo-science', 'flim-flam', '20:10', 'shot', 'glorious', 'motherfucking', 'lets', 'antiheros', 'accolades', 'brainless', 'hypocritical', 'marxist', 'pigs', 'meanie', 'redoing', 'teams', 'springboks', 'contracted', 'props', 'hooker', 'alternate', 'propsnamentsrccvc', 'hookers', 'footnotes', 'franchise', 'affiliated', 'union', 'slight', 'variation', 'developed', 'simplify', 'suggestions', 'tidying', 'highbeam', 'jstor', 'stoneham', 'fatuorum', 'unprotected', 'new_anti-semitism', '#sourcing_claims_for_', '22country', 'specific_incidents', 'incidents', 'radical', 'defining', 'judenhass', 'emanates', 'characterized', 'demonization', 'ethnicity', \"israel's\", 'member', 'self-determination', 'judged', 'neighboring', 'collectively', 'symbols', 'classic', 'libels', 'resurrected', 'wild', 'conspiracy', 'involving', 'zionists', 'israelis', 'plotting', 'governments', 'scenes', 'terror', 'mistakenly', 'attributed', 'islamic', 'excused', 'straw-man', 'condemn', 'unreasonable', 'deny', 'accompanied', 'resurgence', 'violence', 'synagogues', 'schools', 'conjunction', 'anti-americanism', 'anti-globalization', 'phenomenon', 'components', 'allegation', 'unwise', 'nus', 'ephemeral', 'talks', 'election', 'disagreements', 'remind', 'elements', 'suicides', 'commit', 'suicide', 'katie', 'lea', '68.54', '163.153', 'divinity', '31', 'a-hole', 'nishkid', 'sage', 'soothing', 'soemone', '75.21', '101.63', 'youn', 'hooray', 'teahouse', 'durova', 'obsessed', 'joa', 'wich', 'athough', 'closely', 'watched', 'repeat', 'federation', 'nominally', 'outright', 'skyteam', 'klm', 'preempt', 'crazed', 'fans', 'airline', 'hahaha', \"that'll\", 'moar', 'disruption', 'da', 'absence', 'revocation', 'typing', 'reiterate', 'affect', 'administrate', 'herd', 'liek', 'mudkips', 'log-in', 'membere', 'moderation', 'weasel', 'insted', 'notify', 'neutral-sounding', '14:36', 'dickheads', 'brought', 'reject', 'obnoxious', 'water', 'tower', 'sean', 'broom', 'wikitan', 'sticky', 'pocky', 'sad', 'tubby', 'fellow', 'simpsons', 'obesessives', 'overpopulated', 'noted', 'verifiable', 'feedback', 'mad', '190.242', '99.226', 'denial', 'culture', 'cheap', 'moukity', '11th', 'higgys', 'harass', 'summaries', 'rescue', 'heroes', 'sockpuppetry', '134.153', '184.17', 'pharisee', 'debated', 'thinkers', 'brian', \"mclaren's\", 'hannah', 'm.g.shapero', 'zoroastrianism', 'lucky', 'bands', 'dancers', 'sometime', 'concur', 'postscript', 'kommandohimmler', 'lässt', 'grüßen', 'nancy', 'fatass', 'observing', 'girls', 'waddle', 'sexy', 'recoil', 'horrer', 'chocolate', 'dangerously', 'obese', '16', 'hastle', 'dialogue', 'galton', 'watson', '#bad', '#surname', 'plant', 'bruce', 'perens', 'groklaw', 'revoke', 'infiltrator', 'scum', 'malice', 'aforethought', 'blast', 'harmful', 'erroneous', 'worried', 'sued', 'made-up', 'bs', 'direct', 'fortune', 'defending', 'capacities', 'guardians', 'womens', 'quarters', 'administrative', 'existed', \"byt's\", 'contributed', 'confusion', 'confused', 'servers', 'terribly', 'slow', 'diffs', 'solved', 'somehow', 'mess', 'salix', 'alba', 'mcgeddon', 'legal', 'libellious', 'e-pill', 'forcing', 'dubious', 'uer', 'thread', 'subheader', 'pain', 'encylopedic', 'engaged', 'progress', 'overlinking', 'whisper', 'babu', 'aside', 'politely', 'coudl', 'suspected', 'intervention', 'consequence', 'obolensky', 'tried', 'steal', \"consulate's\", 'revolution', 'tolerate', 'byzantine', 'fyromian', 'alexandor', 'makedonski', 'd', 'slav', 'queen', 'england', 'rfd', 'zeus', 'nominated', 'participate', 'hammer', 'finest', '99.141', '246.39', 'river', 'bridge', 'bits', 'andpieces', 'audie', 'murphy', 'roam', '41', 'month', 'penned', 'archived', 'insight', 'appreciate', 'titled', 'q', 'photographer', 'designer', 'writer', 'portions', 'demolished', 'planet', 'represents', 'significance', 'wheres', 'urbanarcheolgy', 'racial', 'censor', 'tyrant', 'region', 'celestial', 'sphere', 'ecliptic', 'defense', 'dictatorships', 'killings', 'awful', 'didier', '#', '3rd', 'channel', 'improved', 're-titiled', 'samantha', '555', 'power-mad', 'pulls', 'november', 'encounter', 'elementary', 'introductory', 'differ', 'appreciation', 'grew', 'historically', 'thrashing', 'differing', 'emerged', 'lightly', 'substantially', 'chip', 'ping-pong', 'widely-read', 'specialised', 'precisely', 'encountered', 'mathematician', 'drawing', 'subsequent', 'pentagram', 'recognised', 'archimedes', 'excluded', 'formally', 'understood', 'mathematicians', 'omit', 'descriptors', 'treatments', 'implicitly', 'introduction', 'luxury', 'conform', 'preconceptions', 'polygons', 'divided', 'self-intersect', 'proviso', 'ideas', '20:34', 'resubmitted', 'confirmation', 'silliness', 'jun', 'natalya', 'pasichnyk', 'logged-in', 'noun', 'influence', 'correctness', 'johnny', 'leverne', 'gender', 'transgender', 'met', 'foreigners', 'shout', 'mouth', '4ever', 'butyou', 'benned', 'wps', 'swearing', 'struggling', 'existence', 'discriminates', 'discriminate', 'fringe', 'flavours', 'separation', 'church', 'strictly', 'tautology', 'elucidate', '𒁳', 'ended', 'archive', 'conversations', 'wen', 'combination', 'responses', 'communicating', 'anywhere', 'fulfilled', 'irregularities', 'normal', 'thoughtless', 'decission', 'frankly', 'realized', 'enormous', 'despotically', 'unjustified', 'grade', 'stil', 'carry', 'constructively', 'sounds', 'gang', 'pedestrian', 'wise', 'advices', 'positive', 'fulfilling', 'carried', 'repressive', 'measures', '3rr', 'consecutive', 'intervening', 'counts', 'sagaiousphil', 'pillockbrain', 'elast', 'sagacious', 'intellect', 'hates', 'superiors', 'injury', 'legobatman', '3609', 'icekid', '1994', 'voice', 'throat', '71.246', '51.122', 'computers', 'ai', 'overlap', 'piotrus', 'blow', '12.176', '20.2', 'sundos', 'mohammed', 'ibrahim', 'al-mansoury', 'sudanese', 'ksa', 'riadh', '2002', 'khartoum', 'garden', 'collage', 'department', 'training', 'violate', 'regulations', 'userpage', 'paraded', 'streets', 'european', 'popular', \"romania's\", '70', 'romanian', '22:49', 'shits', 'imma', 'rcaist', 'bitches', 'ammunition', 'licenced', 'm777', 'origon', 'titanium', 'barell', 'assembled', 'britian', 'imperial', 'sized', 'guns', 'metric', 'dimensions', '9.2', 'l5', 'howitzers', 'reserve', 'stopped', '1990', 'mortar', 'motar', 'supprised', 'service', '1960', '101.171', '170.142', 'formats', 'jersey', 'nineteenth', 'twentieth', '19th', '20th', 'allows', 'requiring', 'legislative', 'tea', '21st', 'internally', 'disingenuous', 'raise', 'aggravating', 'unnecessary', 'audacity', 'insist', 'baseless', 'proverb', 'truism', 'self-evident', 'reminder', 'literary', 'device', 'counterexamples', 'pee', 'toot', 'fart', 'gas', 'diareah', 'zoey', 'stinks', 'marry', 'prohibited', 'whomever', 'out-of-print', 'releases', 'spurious', 'recycled', 'sadly', 'passes', 'begs', 'tuppence', 'advantage', 'commercial', 'egotistical', 'transgressed', \"wiki's\", 'arcane', 'attribution', 'coincidence', 'marmite', 'argumentative', 'straight', 'drafts', 'yellow', 'sticker', 'rid', 'harassing', \"ip's\", 'chelsea', 'manning', 'clearer', 'unreferenced', 'unreviewed', 'childs', 'websites', 'pro', 'suffer', 'horribly', 'pretoria', 'runaway', 'assistance', 'gotten', ';-)', 'half-considered', 'lo', 'aroenel', \"here's\", 'forth', 'feminist', 'synth', 'slaves', 'promotes', 'promoting', 'fenian', 'wrist', 'wip', 'present', 'participant', 'under-referenced', 'gamut', 'hexachord', 'concepts', 'lacks', 'grove', 'inadequate', 'fuller', 'bibliographic', 'details', 'attend', 'tied', 'noetica', '♬', '♩', 'caps', 'demon', 'capitalized', 'inconstructive', 'jvstvs', 'hmmm', 'two-way', 'dab', 'uncapitalised', 'raising', 'allof', 'battleis', 'campaignbox', 'connected', 'dis', 'revaling', '68.205', '182.184', 'creeping', 'thankyou', 'http://www.enotes.com/psychoanalysis-encyclopedia/unpleasure', 'lots', 'suspicious', 'hoax.cierekim', 'ddduu', 'eastern', 'zone', 'callanecc', 'potto', 'hole', 'harbor', 'feelings', 'guilty', 'promise', 'trolls', 'hugo', 'chavez', 'nastiness', 'possessive', 'revisions', 'proceeded', 'foul', 'unwanted', 'unsolicited', 'objected', 'profanity', 'respectfully', 'exercise', 'one-sided', 'forgetting', 'melbourne', 'thereby', 'validating', 'quick', 'geeks', 'ditch', 'processes', 'shes', 'impossible', 'nationality', 'volunteer', 'useless', 'propagandas', 'http://en.wikipedia.org/w/index.php?title=post-it_note=82219445=82217351', '<-', 'inform', 'shyamalan', 'interfere', 'ideology', 'ich', 'beuge', 'zu', 'ihnen', 'meinen', 'fuhrer', 'formating', '1777mev', 'c2', 'orders', 'magnitude', '90.179', '235.249', 'unthinking', 'urchin', 'standing', 'ovation', 'tweaks', 'beforehand', 'strikes', 'online', 'retitling', 'arguing', 'supplant', 'politic', 'reposting', 'tbhotch', 'jobless', 'teachers', 'tossing', 'reality', 'flame', 'demographics', 'pissing', 'save', 'throwing', 'vpn', 'spoof', 'linking', 'gladly', 'roughly', '75', 'fridgemagnet', 'responsibility', 'genius', 'index', 'confirm', 'cepos', \"word's\", 'disconnected', 'etymology', 'managers', 'follows', 'fms', 'unorthodox', 'ewwwwwww', 'dummy', 'nich', 'attempting', 'espouse', 'heavens', 'hard-working', 'totally', 'accusation', 'quoted', 'long-long', 'zionism', 'critique', 'corbett', \"molly's\", 'clarification', 'twenty-four', 'resubmit', 'subst', 'submit', 'pdf', 'guide', 'surat', 'thani', 'ie', 'pertains', 'silk', 'weavers', 'bunga', 'mas', 'suzerainty', 'discusses', 'shameful', 'advert', 'joining', 'wiktionary', 'revival', 'mode', 'wikt', 'ríomhleathanach', '❤', 'groupd', 'bullies', 'chasing', 'iremember', 'gangsterism', 'ov', 'fabricating', 'october', 'unable', 'argumentation', 'adopted', 'arrogant', 'luckily', 'waste', 'strange', 'previously', 'enganged', 'despotic', 'malignant', 'shithead', 'arseface', 'mutherlicker', '137.240', '136.80', 'forst', 'corrupt', 'thiefs', 'san', ';)', 'kobe', 'bryant', '\\u200e', 'jason', 'kidd', 'mena', 'bullying', 'cam', '48', 'eding', 'removes', 'indiviate', 'bulyingf', 'enforcer', 'mckenna', 'leary', 'gordon', 'wasson', 'shamanic', 'ayuhasca', 'iboga', 'shamnic', 'drumming', 'dancing', 'protestent', 'shaker', 'whirling', 'dervishes', 'phenomena', 'meaningfull', 'symptomatic', 'diagnosis', 'aproach', 'agnostic', 'aproaches', 'validity', 'curios', 'elsewhere', 'chosen', 'mighht', 'sympathetique', 'childish', 'presently', 'stays', 'draft', 'trashed', 'clar', '#irsentience', 'removasl', 'arrived', 'operation', 'grammer', 'punctuation', 'editting', 'stlye', 'sum', 'thoughtlessly', 'youve', 'redirected', 'diligently', 'additional', 'religios', 'anthropological', 'socialogical', 'medical', 'chemistry', 'botany', 'views', 'hurdles', 'hoops', 'honour', 'evolved', 'wars', 'stupidly', 'brawl', 'clairsentient', 'wasnt', 'decades', 'articulate', 'rational', 'vast', '69.233', '92.38', 'turd', 'toilet', 'immediently', 'pedo', \"eppy's\", 'tradition', 'header', '19:17', 'intro', 'headings', 'sheeple', 'meant', 'affiliations', 'rex', 'euro', 'massacred', 'civilians', 'specifies', 'constitutes', 'boilerplate', 'templates', 'insure', 'compliance', 'blank', 'specified', 'ndb', 'bastards', 'currently', 'laughing', 'stock', 'punchline', 'joke', 'facilitates', 'uninterested', 'potential', \"wouldn't\", 'harms', 'substantial', 'insidious', 'virus', 'genuine', 'swear-filled', 'diatribe', 'antagonizing', 'genuinely', 'begged', 'taunted', 'harm', 'cf', 'lamina', 'stacked', 'plates', 'gills', 'fish', 'mushrooms', 'comb-like', 'edge', \"duck's\", 'bill', 'referred', 'pectines', 'singular', 'pecten', 'murdered', 'improves', 'consolidating', 'fundamentally', 'descriptions', 'retained', 'puppets', 'demonstrated', 'cannoot', 'face', 'lift', 'slowly', 'identified', \"washington's\", '39', 'counties', 'mountain', 'tons', 'newspaper', 'misspellings', 'bighorn', 'sheep', 'businesses', 'transformer', 'ship', 'isolate', 'besides', 'lewis', 'county', 'trip', 'reports', 'aqu', '01rius', '\\x95', 'cheeselor', 'wdefcon', 'anglesey', 'extra', 'refs', 'photographs', 'infobox', 'renamed', 'baked', 'cake', 'icing', 'fingers', 'crossed', 'hd', 'totd', 'tip', 'active', \"admin's\", 'noticeboard', 'miscellanious', 'village', 'pump', 'places', 'faster', '15:59', 'revisited', 'fix', 'fixing', 'missed', \"it'll\", 'renominated', 'offered', 'entitled', 'reward', 'ais', '523', 'importing', 'scripts', 'monobook.js', 'bypassing', 'cache', '12:57', 'fairly', 'impressive', 'snak', 'retrn', 'blck', 'alllllllllllllllllllllllllllllll', 'fukerssssssssssssssssssssssssssssssssssssssssssssssssssssssssssssssssssssssssssssssssssssssssssssssssssssss', 'unrepentant', 'nominator', 'cease', 'nominations', 'helen', 'krauze', 'snottywong', 'percentage', 'votes', 'results', ':d', 'gg', 'nominates', 'known', 'luck', 'moreover', 'indication', 'underlying', 'abit', 'rollback', 'button', 'twinkle', 'vandal-fighting', '12:20', 'er', 'empathize', 'likewise', 'directed', 'tossed', 'breeze', '2014', 'apologies', 'responding', 'restored', 'incarnation', 'contained', 'infrignements', 'userspace', 're-created', 'restoring', 'grammatical', 'needing', 'moving', 'pseudonym', '09:38', 'suppression', 'houses', '1539', 'insistence', 'eccentric', 'emphasized', 'assertions', 'engaging', 'activities', 'persistence', 'organization', 'overwhelm', 'generate', 'widespread', 'inaccurate', 'libelous', 'passages', 'viewpoint', 'continually', 'furries', 'improvement', 'longstanding', 'redirects', 'orangemarlin', 'disgusting', 'cities', 'insists', 'keeping', 'boston', 'center', 'bastrards', 'neogotiate', 'favour', 'javits', 'brad', 'thor', 'uncommon', 'recipes', 'poisons', 'bio-warfare', 'chemical', 'warfare', 'gleaned', '98.214', '81.82', '700', 'shushing', 'cow', 'dismiss', 'uppercase', 'letter', 'imbecile', 'specialist', 'specifically', 'sneering', 'transphobic', 'sarcasm', 'humour', 'febuary', '#084080', '#000000', 'rangeetsen', 'clicking', 'fill', 'facilitate', 'verifiability', 'three-revert', 'copyrights', 'cellpadding', 'cellspacing', '#000', 'resolving', 'disputes', 'etiquette', 'mangojuice', 'coats', 'absurd', 'subsitute', 'bug', 'systematic', 'territroy', 'moroccan', 'administration', 'administrates', 'polisario', 'exile', 'wanting', 'democratic', 'fervent', 'militant', 'subtitute', 'ín', 'editwarring', 'differently', 'costs', 'indefinite', 'exhausting', 'regards', 'neutrally', 'coloured', 'minded', 'sto', 'th', 'eoriginal', 'noble', 'aims', 'adrift', 'pettyness', 'correction', 'godliness', 'frequent', 'ad', 'stripmalls', 'ingestion', 'burgers', 'fries', 'n', 'inconsitency', 'knickers', 'erase', 'fascism', 'fitting', \"hitler's\", 'germany', \"stalin's\", 'wide', 'nevertheless', 'subtract', 'modify', 'conviction', 'eductaion', 'progressive', 'regressive', 'wikipediapoliciy', 'harrasment', 'reasonable', 'observer', 'adversely', 'affecting', 'intimidating', 'unpleasant', 'discourage', 'implied', 'continued', 'showed', 'unflattering', '202.124', '135.206', 'http://www.wwfindia.org/about_wwf/what_we_do/freshwater_wetlands/our_work/ramsar_sites/harike_wetlands_.cfm', 'http://www.birding.in/birdingsites/harike_lake.htm', 'http://www.gisdevelopment.net/aars/acrs/1997/ts7/ts7008.asp', 'brilliant', 'http://www.punjabheritage.org/architectural-heritage/local-enthusiasm-but-official-neglect-for-anglo-sikh-war-monuments2704.html', 'infoboxes', 'consistency', \"religion's\", 'impression', 'irreligion', 'rejection', \"anupam's\", 'discourse', 'warrant', 'remaining', 'thermonuclear', 'nuclear', 'greater', 'graceful', 'slick', 'ungraceful', '86.131', '154.230', 'mexia', 'prounounced', 'mejilla', 'cheek', 'þ', '¡', 'æ', 'assed', 'suckin', 'drug', 'addicted', 'sniffin', 'megalomaniacs', 'bent', 'stuffed', 'crack', 'losers', 'fewer', 'od', 'moderators', 'hahahaha']\n"
          ]
        }
      ],
      "source": [
        "# task: find up to k most frequent tokens in texts_train,\n",
        "# sort them by number of occurences (highest first)\n",
        "\n",
        "# задача: найти до k наиболее часто встречающихся токенов в texts_train,\n",
        "# сортируем их по количеству вхождений (сначала самое большое)\n",
        "\n",
        "k = 10000\n",
        "\n",
        "from collections import Counter\n",
        "bow_vocabulary = Counter() #это и будет наш словарь\n",
        "\n",
        "\n",
        "for phrase in texts_train:\n",
        "  for token in phrase.split():\n",
        "    bow_vocabulary[token] +=1 #здесь хранится словарь\n",
        "\n",
        "\n",
        "\n",
        "bow_vocabulary = bow_vocabulary.most_common(k) #возвращает n наиболее часто встречающихся элементов, в порядке убывания встречаемости.\n",
        "# [('.', 1513), (',', 1389), ('you', 1342)\n",
        "# а здесь уже список кортежей\n",
        "# bow_vocabulary = dict(bow_vocabulary)\n",
        "bow_vocabulary = [a for a,b in bow_vocabulary]\n",
        "\n",
        "print('example features:', bow_vocabulary) # sorted(bow_vocabulary)[::100])"
      ]
    },
    {
      "cell_type": "code",
      "execution_count": null,
      "metadata": {
        "id": "mCYIl08nrfiN"
      },
      "outputs": [],
      "source": [
        "# bow - это мешок слов\n",
        "# для каждого комментария получим список, в котором под индексом слова(индекс из bow_vocabulary, а не из предложения)\n",
        "# стоит частота встречаемости текущего слова во всем комментарии\n",
        "def text_to_bow(text):\n",
        "    \"\"\" convert text string to an array of token counts. Use bow_vocabulary. \"\"\"\n",
        "\n",
        "    tokens = text.split() #список токенов из одного комментария??\n",
        "    token_counts = np.zeros(len(bow_vocabulary))\n",
        "\n",
        "    for token in tokens:\n",
        "        if token in bow_vocabulary:\n",
        "            index = bow_vocabulary.index(token) #получаем индекс в словаре (bow_vocabulary), под которым находится токен\n",
        "                                                # наиболее частые слова находятся на меньших индексах\n",
        "            token_counts[index] += 1 #под нужным индексом ставим 1 в списке\n",
        "                                    # получаем список для каждого комментария??\n",
        "\n",
        "    return np.array(token_counts, 'float32')\n"
      ]
    },
    {
      "cell_type": "code",
      "execution_count": null,
      "metadata": {
        "id": "rkNKCZj8rfiN"
      },
      "outputs": [],
      "source": [
        "X_train_bow = np.stack(list(map(text_to_bow, texts_train)))\n",
        "# np.stack объединяет строки из списков (сверху вниз друг за другом)\n",
        "# если не вставить np.stack, то получим много списков вместо одного\n",
        "# X_train_bow - это список списков\n",
        "X_test_bow = np.stack(list(map(text_to_bow, texts_test)))\n"
      ]
    },
    {
      "cell_type": "code",
      "source": [
        "# X_train_bow содержит 500 строк (столько комментариев) и 5707 столбцов (столько слов)\n",
        "# Для каждого слова указна частота его встречаемости в данном комментарии\n",
        "# То есть под одним индексом указана частота для одного и того же слова, но в разных строках для разных комментариев\n",
        "X_train_bow.shape"
      ],
      "metadata": {
        "colab": {
          "base_uri": "https://localhost:8080/"
        },
        "id": "Vzzg_eSap_8u",
        "outputId": "feb1764e-987c-4be9-e5f1-1b0b3c22cfa6"
      },
      "execution_count": null,
      "outputs": [
        {
          "output_type": "execute_result",
          "data": {
            "text/plain": [
              "(500, 5707)"
            ]
          },
          "metadata": {},
          "execution_count": 13
        }
      ]
    },
    {
      "cell_type": "code",
      "execution_count": null,
      "metadata": {
        "id": "OCijctGPrfiN"
      },
      "outputs": [],
      "source": [
        "k_max = len(set(' '.join(texts_train).split())) #кол-во уникальных слов\n",
        "assert X_train_bow.shape == (len(texts_train), min(k, k_max))\n",
        "assert X_test_bow.shape == (len(texts_test), min(k, k_max))\n",
        "assert np.all(X_train_bow[5:10].sum(-1) == np.array([len(s.split()) for s in  texts_train[5:10]]))\n",
        "assert len(bow_vocabulary) <= min(k, k_max)\n",
        "assert X_train_bow[6, bow_vocabulary.index('.')] == texts_train[6].split().count('.')"
      ]
    },
    {
      "cell_type": "code",
      "source": [
        "a = np.array([[1,2,4],\n",
        "              [1,2,0],\n",
        "              [1,2,2]])\n",
        "b =np.array([0,0,2])\n",
        "np.mean(a==3)\n",
        "x = np.sum(a[b == 0], axis=0)\n",
        "x\n",
        "np.mean(a==1)\n"
      ],
      "metadata": {
        "colab": {
          "base_uri": "https://localhost:8080/"
        },
        "id": "6jZBBSVkilMr",
        "outputId": "0c08e356-5be0-4409-ca53-5a2714fa6972"
      },
      "execution_count": null,
      "outputs": [
        {
          "output_type": "execute_result",
          "data": {
            "text/plain": [
              "0.3333333333333333"
            ]
          },
          "metadata": {},
          "execution_count": 15
        }
      ]
    },
    {
      "cell_type": "code",
      "source": [
        "X_train_bow[4]"
      ],
      "metadata": {
        "colab": {
          "base_uri": "https://localhost:8080/"
        },
        "id": "0bnC0ml0o8RS",
        "outputId": "2708fae6-8995-4679-d756-f96032dc2d52"
      },
      "execution_count": null,
      "outputs": [
        {
          "output_type": "execute_result",
          "data": {
            "text/plain": [
              "array([0., 5., 2., ..., 0., 0., 0.], dtype=float32)"
            ]
          },
          "metadata": {},
          "execution_count": 16
        }
      ]
    },
    {
      "cell_type": "markdown",
      "metadata": {
        "id": "RtoRXSCdrfiO"
      },
      "source": [
        "__Naive bayes:__ perhaps the simplest model that can solve your problem is the so called Naive Bayes Classifier.\n",
        "Its a trivial linear model that assumes the independence of input features and computes the coefficients by, well, counting probabilities.\n",
        "\n",
        "возможно, самой простой моделью, которая может решить вашу проблему, является так называемый наивный классификатор Байеса. Это тривиальная линейная модель, которая предполагает независимость входных функций и вычисляет коэффициенты путем подсчета вероятностей.\n",
        "\n",
        "If you don't remember the math behind Naive Bayes, read [this chunk](https://lena-voita.github.io/nlp_course/text_classification.html#naive_bayes) to help refresh your memory. Done? Good! Now let's implement that :)"
      ]
    },
    {
      "cell_type": "code",
      "execution_count": null,
      "metadata": {
        "id": "C1qF2evQrfiO"
      },
      "outputs": [],
      "source": [
        "class BinaryNaiveBayes:\n",
        "    delta = 1.0  # add this to all word counts to smoothe probabilities\n",
        "                  # добавьте это ко всему количеству слов, чтобы сгладить вероятность\n",
        "\n",
        "    def fit(self, X, y):\n",
        "        \"\"\"\n",
        "        Fit a NaiveBayes classifier for two classes\n",
        "        :param X: [batch_size, vocab_size] of bag-of-words features\n",
        "        :param y: [batch_size] of binary targets {0, 1}\n",
        "        \"\"\"\n",
        "        # first, compute marginal probabilities of every class, p(y=k) for k = 0,1\n",
        "        # вычислить предельные вероятности каждого класса, p(y=k) для k = 0,1\n",
        "        self.p_y = np.array([np.mean(y==0), np.mean(y==1)]) #получим список из двух вероятностей\n",
        "        # np.mean(y==0) - кол-во y=0 поделенное на кол-во всех классов (len(y))\n",
        "        # X_train_bow = X\n",
        "        # y - таргеты для каждого отдельного комментария\n",
        "\n",
        "        # count occurences of each word in texts with label 1 and label 0 separately\n",
        "        # подсчитывать вхождения каждого слова в текстах с меткой 1 и меткой 0 отдельно\n",
        "        # сделаем 2-мя разными способами\n",
        "\n",
        "        word_counts_positive = np.zeros(X.shape[1]) #размер соответствует кол-ву всех слов 5707\n",
        "        for i in range(len(y)): #идем по всем комментариям\n",
        "          if y[i]==1: #комментарий позитивный\n",
        "            for j in range(len(X[i])): #X[i] - строчка вида [9., 3., 1., для i-го коментария (позитивного)\n",
        "              word_counts_positive[j]+=X[i][j] #получим массив, в кот. указано кол-во употреблений каждого слова для + комментариев\n",
        "                                               #j - столбец, в котором находится частота встречаемости слова под индексом j в комментарии i\n",
        "                                               #для каждого i-го комм-я записываем частоту всех слов\n",
        "\n",
        "        word_counts_negative = np.sum(X[y == 0], axis=0) #поэлементное сложение строк, индексы строк выбираются по y == 0\n",
        "\n",
        "        # ^-- both must be vectors of shape [vocab_size].\n",
        "        # оба должны быть векторами формы [vocab_size].\n",
        "\n",
        "        # finally, lets use those counts to estimate p(x | y = k) for k = 0, 1\n",
        "        # это произведение вероятностей для каждого слова(х)\n",
        "        vocab_size = X.shape[1] #количество слов\n",
        "        self.p_x_given_positive = (self.delta + word_counts_positive)/(self.delta*vocab_size + np.sum(word_counts_positive))\n",
        "        self.p_x_given_negative = (self.delta + word_counts_negative)/(self.delta*vocab_size + np.sum(word_counts_negative))\n",
        "        # both must be of shape [vocab_size]; and don't forget to add self.delta!\n",
        "\n",
        "        return self\n",
        "\n",
        "    def predict_scores(self, X):\n",
        "        \"\"\"\n",
        "        :param X: [batch_size, vocab_size] of bag-of-words features [кол-во комм-в, кол-во слов]\n",
        "        :returns: a matrix of scores [batch_size, k] of scores for k-th class [комм-ии, класс комм-я]\n",
        "        \"\"\"\n",
        "        # compute scores for positive and negative classes separately.\n",
        "        # подсчитывать баллы (вероятности принадлежности к классу) для положительных и отрицательных классов отдельно\n",
        "        # these scores should be proportional to log-probabilities of the respective target {0, 1}\n",
        "        # эти оценки должны быть пропорциональны логарифмическим вероятностям соответствующей target {0, 1}\n",
        "        # note: if you apply logarithm to p_x_given_*, the total log-probability can be written\n",
        "        # as a dot-product with X\n",
        "        # если вы примените логарифм к p_x_given_*, общая логарифмическая вероятность может быть записана как скалярное произведение с X\n",
        "\n",
        "        score_negative = np.log(self.p_y[0]) + X@(np.log(self.p_x_given_negative))\n",
        "        score_positive = np.log(self.p_y[1]) + X@(np.log(self.p_x_given_positive))\n",
        "\n",
        "        # you can compute total p(x | y=k) with a dot product\n",
        "        return np.stack([score_negative, score_positive], axis=-1)\n",
        "\n",
        "    def predict(self, X):\n",
        "        return self.predict_scores(X).argmax(axis=-1)"
      ]
    },
    {
      "cell_type": "code",
      "execution_count": null,
      "metadata": {
        "id": "Zj-82bGKrfiO"
      },
      "outputs": [],
      "source": [
        "naive_model = BinaryNaiveBayes().fit(X_train_bow, y_train)"
      ]
    },
    {
      "cell_type": "code",
      "execution_count": null,
      "metadata": {
        "id": "kNRGhOSHrfiO"
      },
      "outputs": [],
      "source": [
        "assert naive_model.p_y.shape == (2,) and naive_model.p_y.sum() == 1 and naive_model.p_y[0] > naive_model.p_y[1]\n",
        "assert naive_model.p_x_given_positive.shape == naive_model.p_x_given_negative.shape == X_train_bow.shape[1:]\n",
        "assert np.allclose(naive_model.p_x_given_positive.sum(), 1.0)\n",
        "assert np.allclose(naive_model.p_x_given_negative.sum(), 1.0)\n",
        "assert naive_model.p_x_given_negative.min() > 0, \"did you forget to add delta?\"\n",
        "\n",
        "f_index = bow_vocabulary.index('fuck')  # offensive tweets should contain more of this\n",
        "# вероятность встретить слово 'fuck' в положительном комментарии больше, чем вероятность встретить его в отрицательном комментарии.\n",
        "assert naive_model.p_x_given_positive[f_index] > naive_model.p_x_given_negative[f_index]\n",
        "\n",
        "g_index = bow_vocabulary.index('good')  # offensive tweets should contain less of this\n",
        "assert naive_model.p_x_given_positive[g_index] < naive_model.p_x_given_negative[g_index]"
      ]
    },
    {
      "cell_type": "code",
      "execution_count": null,
      "metadata": {
        "id": "IxBfQ6VSrfiO",
        "colab": {
          "base_uri": "https://localhost:8080/",
          "height": 465
        },
        "outputId": "b649ab4d-1ad5-488a-d335-881a7d5589a0"
      },
      "outputs": [
        {
          "output_type": "stream",
          "name": "stdout",
          "text": [
            "Model accuracy: 0.756\n",
            "Well done!\n"
          ]
        },
        {
          "output_type": "display_data",
          "data": {
            "text/plain": [
              "<Figure size 640x480 with 1 Axes>"
            ],
            "image/png": "[encoded data removed]"
          },
          "metadata": {}
        }
      ],
      "source": [
        "from sklearn.metrics import roc_auc_score, roc_curve\n",
        "\n",
        "for name, X, y, model in [\n",
        "    ('train', X_train_bow, y_train, naive_model),\n",
        "    ('test ', X_test_bow, y_test, naive_model)\n",
        "]:\n",
        "    proba = model.predict_scores(X)[:, 1] - model.predict_scores(X)[:, 0]\n",
        "    auc = roc_auc_score(y, proba)\n",
        "    plt.plot(*roc_curve(y, proba)[:2], label='%s AUC=%.4f' % (name, auc))\n",
        "\n",
        "plt.plot([0, 1], [0, 1], '--', color='black',)\n",
        "plt.legend(fontsize='large')\n",
        "plt.grid()\n",
        "\n",
        "test_accuracy = np.mean(naive_model.predict(X_test_bow) == y_test)\n",
        "print(f\"Model accuracy: {test_accuracy:.3f}\")\n",
        "assert test_accuracy > 0.75, \"Accuracy too low. There's likely a mistake in the code.\"\n",
        "print(\"Well done!\")"
      ]
    },
    {
      "cell_type": "markdown",
      "metadata": {
        "id": "e3PTiey6rfiP"
      },
      "source": [
        "Okay, it definitely learned *something*. Now let's figure out what exactly it learned. The simplest way to do that is by highlighting which words have a greatest ratio of positive to negative probability or vice versa. We'll go with the positive one [because reasons](https://www.urbandictionary.com/define.php?term=because%20reasons).\n",
        "\n",
        "Теперь давайте разберемся, чему именно оно научилось. Самый простой способ сделать это — выделить слова, которые имеют наибольшее соотношение положительной и отрицательной вероятности или наоборот. Мы выберем позитивный вариант, потому что есть причины.\n",
        "\n",
        "__Your task__ is to compute top-25 words that have the __highest__ ratio of ${p(x_i | y=1)} \\over {p(x_i | y=0)}$. Enjoy!\n",
        "\n",
        "Задача состоит в том, чтобы вычислить топ-25 слов, которые имеют самый высокий коэффициент ${p(x_i | y=1)} \\over {p(x_i | y=0)}$"
      ]
    },
    {
      "cell_type": "code",
      "execution_count": null,
      "metadata": {
        "id": "7ijxq_V5rfiP",
        "colab": {
          "base_uri": "https://localhost:8080/"
        },
        "outputId": "b31b6819-d9f1-4e01-a74c-406a6027e443"
      },
      "outputs": [
        {
          "output_type": "stream",
          "name": "stdout",
          "text": [
            "#0\t    hitler\t(ratio=475.4734410474474)\n",
            "#1\t      heil\t(ratio=471.8065507565931)\n",
            "#2\t   offfuck\t(ratio=441.2491316661401)\n",
            "#3\t      suck\t(ratio=314.74141663166506)\n",
            "#4\t    nigger\t(ratio=223.68030774211536)\n",
            "#5\t j.delanoy\t(ratio=220.013417451261)\n",
            "#6\t      dick\t(ratio=187.01140483357185)\n",
            "#7\t      fggt\t(ratio=97.78374108944934)\n",
            "#8\t     bitch\t(ratio=59.89254141728772)\n",
            "#9\t      fuck\t(ratio=53.78105759919713)\n",
            "#10\t      slap\t(ratio=44.0026834902522)\n",
            "#11\t      shit\t(ratio=44.0026834902522)\n",
            "#12\t   fucking\t(ratio=31.779715854071032)\n",
            "#13\t       ass\t(ratio=26.890528799598567)\n",
            "#14\t    stupid\t(ratio=18.33445145427175)\n",
            "#15\t         =\t(ratio=17.53995744092598)\n",
            "#16\t   college\t(ratio=17.112154690653632)\n",
            "#17\t         *\t(ratio=17.112154690653632)\n",
            "#18\t   asshole\t(ratio=15.889857927035516)\n",
            "#19\t         u\t(ratio=15.278709545226459)\n",
            "#20\t   bastard\t(ratio=14.667561163417401)\n",
            "#21\t       hit\t(ratio=14.667561163417401)\n",
            "#22\t         @\t(ratio=13.445264399799283)\n",
            "#23\t     idiot\t(ratio=13.445264399799283)\n",
            "#24\t beautiful\t(ratio=12.222967636181167)\n"
          ]
        }
      ],
      "source": [
        "# hint: use naive_model.p_*\n",
        "# bow_vocabulary - массив всех слов\n",
        "probability_ratio =  naive_model.p_x_given_positive / naive_model.p_x_given_negative\n",
        "indices_of_top_25 = np.argsort(-probability_ratio)[:25] #индексы 25-ти слов с наибольшим коэффициентом\n",
        "top_negative_words =  np.take(np.array(bow_vocabulary), indices_of_top_25)# 25 слов с наибольшим коэффициентом вер-ти негативного?? класса\n",
        "\n",
        "assert len(top_negative_words) == 25 and [isinstance(w, str) for w in top_negative_words]\n",
        "assert 'j.delanoy' in top_negative_words and 'college' in top_negative_words\n",
        "\n",
        "for i, word in enumerate(top_negative_words):\n",
        "    print(f\"#{i}\\t{word.rjust(10, ' ')}\\t(ratio={probability_ratio[bow_vocabulary.index(word)]})\")"
      ]
    },
    {
      "cell_type": "markdown",
      "metadata": {
        "id": "dEy3mPMVrfiP"
      },
      "source": [
        "Now lets try something less prehistoric: __Logistic Regression__. Turns out, if you're using silicon instead of an abacus, you can find model weights by optimizing the log-probability of the answer. Though, of course, you don't even need to write it by hand anymore. Let's sklearn it!\n",
        "\n",
        "Теперь давайте попробуем что-то менее доисторическое: логистическую регрессию. Оказывается, если вы используете кремний вместо счетов, вы можете найти веса модели, оптимизируя логарифмическую вероятность ответа."
      ]
    },
    {
      "cell_type": "code",
      "execution_count": null,
      "metadata": {
        "id": "zIbxI2E-rfiP"
      },
      "outputs": [],
      "source": [
        "from sklearn.linear_model import LogisticRegression\n",
        "bow_model = LogisticRegression(C = 0.14).fit(X_train_bow, y_train) #С - регуляризация, чем меньше значение, тем сильнее регул-я"
      ]
    },
    {
      "cell_type": "code",
      "execution_count": null,
      "metadata": {
        "id": "b7R0dXgnrfiP",
        "colab": {
          "base_uri": "https://localhost:8080/",
          "height": 465
        },
        "outputId": "b6ba4059-d6b8-4508-c17f-5112ccce203a"
      },
      "outputs": [
        {
          "output_type": "stream",
          "name": "stdout",
          "text": [
            "Model accuracy: 0.772\n",
            "Well done!\n"
          ]
        },
        {
          "output_type": "display_data",
          "data": {
            "text/plain": [
              "<Figure size 640x480 with 1 Axes>"
            ],
            "image/png": "[encoded data removed]"
          },
          "metadata": {}
        }
      ],
      "source": [
        "from sklearn.metrics import roc_auc_score, roc_curve\n",
        "\n",
        "for name, X, y, model in [\n",
        "    ('train', X_train_bow, y_train, bow_model),\n",
        "    ('test ', X_test_bow, y_test, bow_model)\n",
        "]:\n",
        "    proba = model.predict_proba(X)[:, 1]\n",
        "    auc = roc_auc_score(y, proba)\n",
        "    plt.plot(*roc_curve(y, proba)[:2], label='%s AUC=%.4f' % (name, auc))\n",
        "\n",
        "plt.plot([0, 1], [0, 1], '--', color='black',)\n",
        "plt.legend(fontsize='large')\n",
        "plt.grid()\n",
        "\n",
        "test_accuracy = np.mean(bow_model.predict(X_test_bow) == y_test)\n",
        "print(f\"Model accuracy: {test_accuracy:.3f}\")\n",
        "assert test_accuracy > 0.77, \"Hint: tune the parameter C to improve performance\"\n",
        "print(\"Well done!\")"
      ]
    },
    {
      "cell_type": "markdown",
      "metadata": {
        "id": "9XEfvfZGrfiP"
      },
      "source": [
        "### Task: implement TF-IDF features\n",
        "\n",
        "Not all words are equally useful. One can prioritize rare words and downscale words like \"and\"/\"or\" by using __tf-idf features__. This abbreviation stands for __text frequency/inverse document frequence__ and means exactly that:\n",
        "\n",
        "Не все слова одинаково полезны. Можно отдать приоритет редким словам и уменьшить масштаб таких слов, как «и»/«или», используя функции tf-idf. Эта аббревиатура обозначает частоту текста/обратную частоту документа и означает именно это:\n",
        "\n",
        "$$ feature_i = { Count(word_i \\in x) \\times { log {N \\over Count(word_i \\in D) + \\alpha} }} $$\n",
        "\n",
        "\n",
        ", where x is a single text, D is your dataset (a collection of texts), N is a total number of documents and $\\alpha$ is a smoothing hyperparameter (typically 1).And $Count(word_i \\in D)$ is the number of documents where $word_i$ appears.\n",
        "\n",
        "где x — один текст, D — ваш набор данных (набор текстов), N — общее количество документов, а α — гиперпараметр сглаживания.$Count(word_i \\in D)$ — это количество документов, в которых встречается $word_i$.\n",
        "\n",
        "\n",
        "It may also be a good idea to normalize each data sample after computing tf-idf features.\n",
        "\n",
        "Также может быть хорошей идеей нормализовать каждую выборку данных после вычисления функций tf-idf.\n",
        "\n",
        "__Your task:__ implement tf-idf features, train a model and evaluate ROC curve. Compare it with basic BagOfWords model from above.\n",
        "\n",
        "Please don't use sklearn/nltk builtin tf-idf vectorizers in your solution :) You can still use 'em for debugging though.\n",
        "\n",
        "реализовать функции tf-idf, обучить модель и оценить кривую ROC. Сравните ее с базовой моделью BagOfWords, приведенной выше.\n",
        "\n",
        "Пожалуйста, не используйте встроенные векторизаторы tf-idf sklearn/nltk в своем решении :) Однако вы все равно можете использовать их для отладки."
      ]
    },
    {
      "cell_type": "code",
      "execution_count": null,
      "metadata": {
        "id": "y6wzUO-LrfiP"
      },
      "outputs": [],
      "source": [
        "# TF - сколько раз слово встретилось в текущем комментарии\n",
        "# IDF - число всех комментариев/число комм-ев с этим словом\n",
        "\n",
        "from collections import Counter\n",
        "bow_vocabulary_1 = Counter() #это и будет наш словарь\n",
        "\n",
        "texts_train=texts_train.astype(str)\n",
        "\n",
        "for comment in np.char.lower(texts_train):\n",
        "  for token in comment.split():\n",
        "    bow_vocabulary_1[token] +=1 #здесь хранится словарь слов с частотой их встречаемости\n",
        "                              # для каждого слова указано кол-во комментариев, в которых оно есть\n",
        "\n",
        "bow_vocabulary_1 # отсюда можем взять число комментариев с нужным словом\n",
        "N = len(texts_train)\n",
        "alpha = 1.\n",
        "for k, v in bow_vocabulary_1.items():\n",
        "  bow_vocabulary_1[k] = np.log((N/bow_vocabulary_1[k]))#+alpha)) #это и есть словарь с IDF\n",
        "\n"
      ]
    },
    {
      "cell_type": "code",
      "source": [
        "def texts_to_tfidf(text):\n",
        "  count_words_in_x = dict()\n",
        "\n",
        "  for word in text.split(): #идем по словам\n",
        "    count_words_in_x[word] = count_words_in_x.get(word,0) + 1\n",
        "  # print(count_words_in_x) #получили для каждого комментария свой словарь\n",
        "  for i in count_words_in_x:\n",
        "    count_words_in_x[i] = count_words_in_x[i]*bow_vocabulary_1[i]\n",
        "      # print(count_words_in_x[k])\n",
        "  return np.array(list(count_words_in_x.values()), 'float32')\n"
      ],
      "metadata": {
        "id": "9tjXNi8Yn9yz"
      },
      "execution_count": null,
      "outputs": []
    },
    {
      "cell_type": "code",
      "source": [
        "X_train_bow = np.stack(list(map(texts_to_tfidf, texts_train)))\n",
        "# X_test_bow = np.stack(list(map(texts_to_tfidf, texts_test)))"
      ],
      "metadata": {
        "colab": {
          "base_uri": "https://localhost:8080/",
          "height": 338
        },
        "id": "mxXMAF60nEaT",
        "outputId": "df9533bf-1d4f-4655-af01-d272707283bf"
      },
      "execution_count": null,
      "outputs": [
        {
          "output_type": "error",
          "ename": "ValueError",
          "evalue": "all input arrays must have the same shape",
          "traceback": [
            "\u001b[0;31m---------------------------------------------------------------------------\u001b[0m",
            "\u001b[0;31mValueError\u001b[0m                                Traceback (most recent call last)",
            "\u001b[0;32m<ipython-input-80-1a88156bb5fa>\u001b[0m in \u001b[0;36m<cell line: 1>\u001b[0;34m()\u001b[0m\n\u001b[0;32m----> 1\u001b[0;31m \u001b[0mX_train_bow\u001b[0m \u001b[0;34m=\u001b[0m \u001b[0mnp\u001b[0m\u001b[0;34m.\u001b[0m\u001b[0mstack\u001b[0m\u001b[0;34m(\u001b[0m\u001b[0mlist\u001b[0m\u001b[0;34m(\u001b[0m\u001b[0mmap\u001b[0m\u001b[0;34m(\u001b[0m\u001b[0mtexts_to_tfidf\u001b[0m\u001b[0;34m,\u001b[0m \u001b[0mtexts_train\u001b[0m\u001b[0;34m)\u001b[0m\u001b[0;34m)\u001b[0m\u001b[0;34m)\u001b[0m\u001b[0;34m\u001b[0m\u001b[0;34m\u001b[0m\u001b[0m\n\u001b[0m\u001b[1;32m      2\u001b[0m \u001b[0;31m# X_test_bow = np.stack(list(map(texts_to_tfidf, texts_test)))\u001b[0m\u001b[0;34m\u001b[0m\u001b[0;34m\u001b[0m\u001b[0m\n",
            "\u001b[0;32m/usr/local/lib/python3.10/dist-packages/numpy/core/overrides.py\u001b[0m in \u001b[0;36mstack\u001b[0;34m(*args, **kwargs)\u001b[0m\n",
            "\u001b[0;32m/usr/local/lib/python3.10/dist-packages/numpy/core/shape_base.py\u001b[0m in \u001b[0;36mstack\u001b[0;34m(arrays, axis, out)\u001b[0m\n\u001b[1;32m    424\u001b[0m     \u001b[0mshapes\u001b[0m \u001b[0;34m=\u001b[0m \u001b[0;34m{\u001b[0m\u001b[0marr\u001b[0m\u001b[0;34m.\u001b[0m\u001b[0mshape\u001b[0m \u001b[0;32mfor\u001b[0m \u001b[0marr\u001b[0m \u001b[0;32min\u001b[0m \u001b[0marrays\u001b[0m\u001b[0;34m}\u001b[0m\u001b[0;34m\u001b[0m\u001b[0;34m\u001b[0m\u001b[0m\n\u001b[1;32m    425\u001b[0m     \u001b[0;32mif\u001b[0m \u001b[0mlen\u001b[0m\u001b[0;34m(\u001b[0m\u001b[0mshapes\u001b[0m\u001b[0;34m)\u001b[0m \u001b[0;34m!=\u001b[0m \u001b[0;36m1\u001b[0m\u001b[0;34m:\u001b[0m\u001b[0;34m\u001b[0m\u001b[0;34m\u001b[0m\u001b[0m\n\u001b[0;32m--> 426\u001b[0;31m         \u001b[0;32mraise\u001b[0m \u001b[0mValueError\u001b[0m\u001b[0;34m(\u001b[0m\u001b[0;34m'all input arrays must have the same shape'\u001b[0m\u001b[0;34m)\u001b[0m\u001b[0;34m\u001b[0m\u001b[0;34m\u001b[0m\u001b[0m\n\u001b[0m\u001b[1;32m    427\u001b[0m \u001b[0;34m\u001b[0m\u001b[0m\n\u001b[1;32m    428\u001b[0m     \u001b[0mresult_ndim\u001b[0m \u001b[0;34m=\u001b[0m \u001b[0marrays\u001b[0m\u001b[0;34m[\u001b[0m\u001b[0;36m0\u001b[0m\u001b[0;34m]\u001b[0m\u001b[0;34m.\u001b[0m\u001b[0mndim\u001b[0m \u001b[0;34m+\u001b[0m \u001b[0;36m1\u001b[0m\u001b[0;34m\u001b[0m\u001b[0;34m\u001b[0m\u001b[0m\n",
            "\u001b[0;31mValueError\u001b[0m: all input arrays must have the same shape"
          ]
        }
      ]
    },
    {
      "cell_type": "code",
      "source": [
        "\n"
      ],
      "metadata": {
        "id": "niDgp0G8dMLG"
      },
      "execution_count": null,
      "outputs": []
    },
    {
      "cell_type": "markdown",
      "metadata": {
        "id": "XLDUoe4vrfiP"
      },
      "source": [
        "```\n",
        "\n",
        "```\n",
        "\n",
        "```\n",
        "\n",
        "```\n",
        "\n",
        "```\n",
        "\n",
        "```\n",
        "\n",
        "```\n",
        "\n",
        "```\n",
        "\n",
        "```\n",
        "\n",
        "```\n",
        "\n",
        "```\n",
        "\n",
        "```\n",
        "\n",
        "```\n",
        "\n",
        "```\n",
        "\n",
        "```\n",
        "\n",
        "```\n",
        "\n",
        "\n",
        "### Solving it better: word vectors\n",
        "\n",
        "Let's try another approach: instead of counting per-word frequencies, we shall map all words to pre-trained word vectors and average over them to get text features.\n",
        "\n",
        "This should give us two key advantages: (1) we now have 10^2 features instead of 10^4 and (2) our model can generalize to word that are not in training dataset.\n",
        "\n",
        "We begin with a standard approach with pre-trained word vectors. However, you may also try\n",
        "* training embeddings from scratch on relevant (unlabeled) data\n",
        "* multiplying word vectors by inverse word frequency in dataset (like tf-idf).\n",
        "* concatenating several embeddings\n",
        "    * call `gensim.downloader.info()['models'].keys()` to get a list of available models\n",
        "* clusterizing words by their word-vectors and try bag of cluster_ids\n",
        "\n",
        "__Note:__ loading pre-trained model may take a while. It's a perfect opportunity to refill your cup of tea/coffee and grab some extra cookies. Or binge-watch some tv series if you're slow on internet connection"
      ]
    },
    {
      "cell_type": "code",
      "execution_count": null,
      "metadata": {
        "collapsed": true,
        "scrolled": false,
        "id": "kJlr1SiwrfiP"
      },
      "outputs": [],
      "source": [
        "import gensim.downloader\n",
        "embeddings = gensim.downloader.load(\"fasttext-wiki-news-subwords-300\")\n",
        "\n",
        "# If you're low on RAM or download speed, use \"glove-wiki-gigaword-100\" instead. Ignore all further asserts."
      ]
    },
    {
      "cell_type": "code",
      "execution_count": null,
      "metadata": {
        "collapsed": true,
        "id": "88TcoiPCrfiP"
      },
      "outputs": [],
      "source": [
        "def vectorize_sum(comment):\n",
        "    \"\"\"\n",
        "    implement a function that converts preprocessed comment to a sum of token vectors\n",
        "    \"\"\"\n",
        "    embedding_dim = embeddings.wv.vectors.shape[1]\n",
        "    features = np.zeros([embedding_dim], dtype='float32')\n",
        "\n",
        "    <YOUR CODE>\n",
        "\n",
        "    return features\n",
        "\n",
        "assert np.allclose(\n",
        "    vectorize_sum(\"who cares anymore . they attack with impunity .\")[::70],\n",
        "    np.array([ 0.0108616 ,  0.0261663 ,  0.13855131, -0.18510573, -0.46380025])\n",
        ")"
      ]
    },
    {
      "cell_type": "code",
      "execution_count": null,
      "metadata": {
        "collapsed": true,
        "id": "cva_7ekMrfiP"
      },
      "outputs": [],
      "source": [
        "X_train_wv = np.stack([vectorize_sum(text) for text in texts_train])\n",
        "X_test_wv = np.stack([vectorize_sum(text) for text in texts_test])"
      ]
    },
    {
      "cell_type": "code",
      "execution_count": null,
      "metadata": {
        "id": "AZ8je-KOrfiQ",
        "outputId": "9c0539bb-3ca1-4ab6-acdd-c7cc584fd6fb"
      },
      "outputs": [
        {
          "data": {
            "image/png": "[encoded data removed]",
            "text/plain": [
              "<matplotlib.figure.Figure at 0x7fc2d6dba550>"
            ]
          },
          "metadata": {},
          "output_type": "display_data"
        }
      ],
      "source": [
        "wv_model = LogisticRegression().fit(X_train_wv, y_train)\n",
        "\n",
        "for name, X, y, model in [\n",
        "    ('bow train', X_train_bow, y_train, bow_model),\n",
        "    ('bow test ', X_test_bow, y_test, bow_model),\n",
        "    ('vec train', X_train_wv, y_train, wv_model),\n",
        "    ('vec test ', X_test_wv, y_test, wv_model)\n",
        "]:\n",
        "    proba = model.predict_proba(X)[:, 1]\n",
        "    auc = roc_auc_score(y, proba)\n",
        "    plt.plot(*roc_curve(y, proba)[:2], label='%s AUC=%.4f' % (name, auc))\n",
        "\n",
        "plt.plot([0, 1], [0, 1], '--', color='black',)\n",
        "plt.legend(fontsize='large')\n",
        "plt.grid()\n",
        "\n",
        "assert roc_auc_score(y_test, wv_model.predict_proba(X_test_wv)[:, 1]) > 0.92, \"something's wrong with your features\""
      ]
    },
    {
      "cell_type": "markdown",
      "metadata": {
        "id": "2XknCGaTrfiQ"
      },
      "source": [
        "If everything went right, you've just managed to reduce misclassification rate by a factor of two.\n",
        "This trick is very useful when you're dealing with small datasets. However, if you have hundreds of thousands of samples, there's a whole different range of methods for that. We'll get there in the second part."
      ]
    }
  ],
  "metadata": {
    "kernelspec": {
      "display_name": "Python 3",
      "language": "python",
      "name": "python3"
    },
    "language_info": {
      "codemirror_mode": {
        "name": "ipython",
        "version": 3
      },
      "file_extension": ".py",
      "mimetype": "text/x-python",
      "name": "python",
      "nbconvert_exporter": "python",
      "pygments_lexer": "ipython3",
      "version": "3.8.1"
    },
    "colab": {
      "provenance": [],
      "include_colab_link": true
    }
  },
  "nbformat": 4,
  "nbformat_minor": 0
}